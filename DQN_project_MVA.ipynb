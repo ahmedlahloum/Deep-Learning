{
 "cells": [
  {
   "cell_type": "markdown",
   "metadata": {},
   "source": [
    "**You may need to install [OpenCV](https://pypi.python.org/pypi/opencv-python) and [scikit-video](http://www.scikit-video.org/stable/).**"
   ]
  },
  {
   "cell_type": "code",
   "execution_count": 1,
   "metadata": {},
   "outputs": [
    {
     "name": "stderr",
     "output_type": "stream",
     "text": [
      "C:\\Users\\Ahmed\\Anaconda3\\lib\\site-packages\\h5py\\__init__.py:36: FutureWarning: Conversion of the second argument of issubdtype from `float` to `np.floating` is deprecated. In future, it will be treated as `np.float64 == np.dtype(float).type`.\n",
      "  from ._conv import register_converters as _register_converters\n",
      "Using TensorFlow backend.\n"
     ]
    }
   ],
   "source": [
    "import keras\n",
    "import numpy as np\n",
    "import io\n",
    "import base64\n",
    "from IPython.display import HTML\n",
    "import skvideo.io\n",
    "import cv2\n",
    "import json\n",
    "\n",
    "from keras.models import Sequential,model_from_json\n",
    "from keras.layers.core import Dense\n",
    "from keras.optimizers import sgd\n",
    "from keras.layers import Conv2D, MaxPooling2D, Activation, AveragePooling2D,Reshape,BatchNormalization"
   ]
  },
  {
   "cell_type": "markdown",
   "metadata": {},
   "source": [
    "# MiniProject #3: Deep Reinforcement Learning"
   ]
  },
  {
   "cell_type": "markdown",
   "metadata": {},
   "source": [
    "__Notations__: $E_p$ is the expectation under probability $p$. Please justify each of your answer and widely comment your code."
   ]
  },
  {
   "cell_type": "markdown",
   "metadata": {},
   "source": [
    "# Context"
   ]
  },
  {
   "cell_type": "markdown",
   "metadata": {},
   "source": [
    "In a reinforcement learning algorithm, we modelize each step $t$ as an action $a_t$ obtained from a state $s_t$, i.e. $\\{(a_{t},s_{t})_{t\\leq T}\\}$ having the Markov property. We consider a discount factor $\\gamma \\in [0,1]$ that ensures convergence. The goal is to find among all the policies $\\pi$, one that maximizes the expected reward:\n",
    "\n",
    "\\begin{equation*}\n",
    "R(\\pi)=\\sum_{t\\leq T}E_{p^{\\pi}}[\\gamma^t r(s_{t},a_{t})] \\> ,\n",
    "\\end{equation*}\n",
    "\n",
    "where: \n",
    "\\begin{equation*}p^{\\pi}(a_{0},a_{1},s_{1},...,a_{T},s_{T})=p(a_{0})\\prod_{t=1}^{T}\\pi(a_{t}|s_{t})p(s_{t+1}|s_{t},a_{t}) \\> .\n",
    "\\end{equation*}\n",
    "\n",
    "We note the $Q$-function:\n",
    "\n",
    "\\begin{equation*}Q^\\pi(s,a)=E_{p^{\\pi}}[\\sum_{t\\leq T}\\gamma^{t}r(s_{t},a_{t})|s_{0}=s,a_{0}=a] \\> .\n",
    "\\end{equation*}\n",
    "\n",
    "Thus, the optimal Q function is:\n",
    "\\begin{equation*}\n",
    "Q^*(s,a)=\\max_{\\pi}Q^\\pi(s,a) \\> .\n",
    "\\end{equation*}\n",
    "\n",
    "In this project, we will apply the deep reinforcement learning techniques to a simple game: an agent will have to learn from scratch a policy that will permit it maximizing a reward."
   ]
  },
  {
   "cell_type": "markdown",
   "metadata": {},
   "source": [
    "## The environment, the agent and the game"
   ]
  },
  {
   "cell_type": "markdown",
   "metadata": {},
   "source": [
    "### The environment"
   ]
  },
  {
   "cell_type": "markdown",
   "metadata": {},
   "source": [
    "```Environment``` is an abstract class that represents the states, rewards, and actions to obtain the new state."
   ]
  },
  {
   "cell_type": "code",
   "execution_count": 2,
   "metadata": {},
   "outputs": [],
   "source": [
    "class Environment(object):\n",
    "    def __init__(self):\n",
    "        pass\n",
    "\n",
    "    def act(self, act):\n",
    "        \"\"\"\n",
    "        One can act on the environment and obtain its reaction:\n",
    "        - the new state\n",
    "        - the reward of the new state\n",
    "        - should we continue the game?\n",
    "\n",
    "        :return: state, reward, game_over\n",
    "        \"\"\"\n",
    "        pass\n",
    "\n",
    "\n",
    "    def reset(self):\n",
    "        \"\"\"\n",
    "        Reinitialize the environment to a random state and returns\n",
    "        the original state\n",
    "\n",
    "        :return: state\n",
    "        \"\"\"\n",
    "        pass\n",
    "    \n",
    "    def draw(self):\n",
    "        \"\"\"\n",
    "        Visualize in the console or graphically the current state\n",
    "        \"\"\"\n",
    "        pass"
   ]
  },
  {
   "cell_type": "markdown",
   "metadata": {},
   "source": [
    "The method ```act``` allows to act on the environment at a given state $s_t$ (stored internally), via action $a_t$. The method will return the new state $s_{t+1}$, the reward $r(s_{t},a_{t})$ and determines if $t\\leq T$ (*game_over*).\n",
    "\n",
    "The method ```reset``` simply reinitializes the environment to a random state $s_0$.\n",
    "\n",
    "The method ```draw``` displays the current state $s_t$ (this is useful to check the behavior of the Agent).\n",
    "\n",
    "We modelize $s_t$ as a tensor, while $a_t$ is an integer."
   ]
  },
  {
   "cell_type": "markdown",
   "metadata": {},
   "source": [
    "### The Agent"
   ]
  },
  {
   "cell_type": "markdown",
   "metadata": {},
   "source": [
    "The goal of the ```Agent``` is to interact with the ```Environment``` by proposing actions $a_t$ obtained from a given state $s_t$ to attempt to maximize its __reward__ $r(s_t,a_t)$. We propose the following abstract class:"
   ]
  },
  {
   "cell_type": "code",
   "execution_count": 3,
   "metadata": {},
   "outputs": [],
   "source": [
    "class Agent(object):\n",
    "    def __init__(self, epsilon=0.1, n_action=4):\n",
    "        self.epsilon = epsilon\n",
    "        self.n_action = n_action\n",
    "    \n",
    "    def set_epsilon(self,e):\n",
    "        self.epsilon = e\n",
    "\n",
    "    def act(self,s,train=True):\n",
    "        \"\"\" This function should return the next action to do:\n",
    "        an integer between 0 and 4 (not included) with a random exploration of epsilon\"\"\"\n",
    "        if train:\n",
    "            if np.random.rand() <= self.epsilon:\n",
    "                a = np.random.randint(0, self.n_action, size=1)[0]\n",
    "            else:\n",
    "                a = self.learned_act(s)\n",
    "        else: # in some cases, this can improve the performance.. remove it if poor performances\n",
    "            a = self.learned_act(s)\n",
    "\n",
    "        return a\n",
    "\n",
    "    def learned_act(self,s):\n",
    "        \"\"\" Act via the policy of the agent, from a given state s\n",
    "        it proposes an action a\"\"\"\n",
    "        pass\n",
    "\n",
    "    def reinforce(self, s, n_s, a, r, game_over_):\n",
    "        \"\"\" This function is the core of the learning algorithm. \n",
    "        It takes as an input the current state s_, the next state n_s_\n",
    "        the action a_ used to move from s_ to n_s_ and the reward r_.\n",
    "        \n",
    "        Its goal is to learn a policy.\n",
    "        \"\"\"\n",
    "        pass\n",
    "\n",
    "    def save(self):\n",
    "        \"\"\" This function returns basic stats if applicable: the\n",
    "        loss and/or the model\"\"\"\n",
    "        pass\n",
    "\n",
    "    def load(self):\n",
    "        \"\"\" This function allows to restore a model\"\"\"\n",
    "        pass"
   ]
  },
  {
   "cell_type": "markdown",
   "metadata": {},
   "source": [
    "***\n",
    "__Question 1__:\n",
    "Explain the function act. Why is ```epsilon``` essential?"
   ]
  },
  {
   "cell_type": "markdown",
   "metadata": {},
   "source": [
    "The function act returns the action that the agent perform given a state. It will perform a random action with a probability epsilon, or the learned action else.\n",
    "\n",
    "Epsilon is essential because it allows the algorithm to explore the Action space. This is called 'exploration'. If epsilon is not used during the training, the algorithm can easily converge to a suboptimal solution and can't ameliore it if it don't explore other possibilities. "
   ]
  },
  {
   "cell_type": "markdown",
   "metadata": {},
   "source": [
    "***\n",
    "### The Game"
   ]
  },
  {
   "cell_type": "markdown",
   "metadata": {},
   "source": [
    "The ```Agent``` and the ```Environment``` work in an interlaced way as in the following (take some time to understand this code as it is the core of the project)\n",
    "\n",
    "```python\n",
    "\n",
    "epoch = 300\n",
    "env = Environment()\n",
    "agent = Agent()\n",
    "\n",
    "\n",
    "# Number of won games\n",
    "score = 0\n",
    "loss = 0\n",
    "\n",
    "\n",
    "for e in range(epoch):\n",
    "    # At each epoch, we restart to a fresh game and get the initial state\n",
    "    state = env.reset()\n",
    "    # This assumes that the games will end\n",
    "    game_over = False\n",
    "\n",
    "    win = 0\n",
    "    lose = 0\n",
    "    \n",
    "    while not game_over:\n",
    "        # The agent performs an action\n",
    "        action = agent.act(state)\n",
    "\n",
    "        # Apply an action to the environment, get the next state, the reward\n",
    "        # and if the games end\n",
    "        prev_state = state\n",
    "        state, reward, game_over = env.act(action)\n",
    "\n",
    "        # Update the counters\n",
    "        if reward > 0:\n",
    "            win = win + reward\n",
    "        if reward < 0:\n",
    "            lose = lose -reward\n",
    "\n",
    "        # Apply the reinforcement strategy\n",
    "        loss = agent.reinforce(prev_state, state,  action, reward, game_over)\n",
    "\n",
    "    # Save as a mp4\n",
    "    if e % 10 == 0:\n",
    "        env.draw(e)\n",
    "\n",
    "    # Update stats\n",
    "    score += win-lose\n",
    "\n",
    "    print(\"Epoch {:03d}/{:03d} | Loss {:.4f} | Win/lose count {}/{} ({})\"\n",
    "          .format(e, epoch, loss, win, lose, win-lose))\n",
    "    agent.save()\n",
    "```"
   ]
  },
  {
   "cell_type": "markdown",
   "metadata": {},
   "source": [
    "# The game, *eat cheese*"
   ]
  },
  {
   "cell_type": "markdown",
   "metadata": {},
   "source": [
    "A rat runs on an island and tries to eat as much as possible. The island is subdivided into $N\\times N$ cells, in which there are cheese (+0.5) and poisonous cells (-1). The rat has a visibility of 2 cells (thus it can see $5^2$ cells). The rat is given a time $T$ to accumulate as much food as possible. It can perform 4 actions: going up, down, left, right. \n",
    "\n",
    "The goal is to code an agent to solve this task that will learn by trial and error. We propose the following environment:"
   ]
  },
  {
   "cell_type": "code",
   "execution_count": 4,
   "metadata": {},
   "outputs": [],
   "source": [
    "class Environment(object):\n",
    "    def __init__(self, grid_size=10, max_time=500, temperature=0.1):\n",
    "        grid_size = grid_size+4\n",
    "        self.grid_size = grid_size\n",
    "        self.max_time = max_time\n",
    "        self.temperature = temperature\n",
    "\n",
    "        #board on which one plays\n",
    "        self.board = np.zeros((grid_size,grid_size))\n",
    "        self.position = np.zeros((grid_size,grid_size))\n",
    "\n",
    "        # coordinate of the cat\n",
    "        self.x = 0\n",
    "        self.y = 1\n",
    "\n",
    "        # self time\n",
    "        self.t = 0\n",
    "\n",
    "        self.scale=16\n",
    "\n",
    "        self.to_draw = np.zeros((max_time+2, grid_size*self.scale, grid_size*self.scale, 3))\n",
    "\n",
    "\n",
    "    def draw(self,e):\n",
    "        skvideo.io.vwrite(str(e) + '.mp4', self.to_draw)\n",
    "\n",
    "    def get_frame(self,t):\n",
    "        b = np.zeros((self.grid_size,self.grid_size,3))+128\n",
    "        b[self.board>0,0] = 256\n",
    "        b[self.board < 0, 2] = 256\n",
    "        b[self.x,self.y,:]=256\n",
    "        b[-2:,:,:]=0\n",
    "        b[:,-2:,:]=0\n",
    "        b[:2,:,:]=0\n",
    "        b[:,:2,:]=0\n",
    "        \n",
    "        b =  cv2.resize(b, None, fx=self.scale, fy=self.scale, interpolation=cv2.INTER_NEAREST)\n",
    "\n",
    "        self.to_draw[t,:,:,:]=b\n",
    "\n",
    "\n",
    "    def act(self, action):\n",
    "        \"\"\"This function returns the new state, reward and decides if the\n",
    "        game ends.\"\"\"\n",
    "\n",
    "        self.get_frame(int(self.t))\n",
    "\n",
    "        self.position = np.zeros((self.grid_size, self.grid_size))\n",
    "\n",
    "        self.position[0:2,:]= -1\n",
    "        self.position[:,0:2] = -1\n",
    "        self.position[-2:, :] = -1\n",
    "        self.position[-2:, :] = -1\n",
    "\n",
    "        self.position[self.x, self.y] = 1\n",
    "        if action == 0:\n",
    "            if self.x == self.grid_size-3:\n",
    "                self.x = self.x-1\n",
    "            else:\n",
    "                self.x = self.x + 1\n",
    "        elif action == 1:\n",
    "            if self.x == 2:\n",
    "                self.x = self.x+1\n",
    "            else:\n",
    "                self.x = self.x-1\n",
    "        elif action == 2:\n",
    "            if self.y == self.grid_size - 3:\n",
    "                self.y = self.y - 1\n",
    "            else:\n",
    "                self.y = self.y + 1\n",
    "        elif action == 3:\n",
    "            if self.y == 2:\n",
    "                self.y = self.y + 1\n",
    "            else:\n",
    "                self.y = self.y - 1\n",
    "        else:\n",
    "            RuntimeError('Error: action not recognized')\n",
    "\n",
    "        self.t = self.t + 1\n",
    "        reward = self.board[self.x, self.y]\n",
    "        self.board[self.x, self.y] = 0\n",
    "        game_over = self.t > self.max_time\n",
    "        state = np.concatenate((self.board.reshape(self.grid_size, self.grid_size,1),\n",
    "                        self.position.reshape(self.grid_size, self.grid_size,1)),axis=2)\n",
    "        state = state[self.x-2:self.x+3,self.y-2:self.y+3,:]\n",
    "\n",
    "        return state, reward, game_over\n",
    "\n",
    "    def reset(self):\n",
    "        \"\"\"This function resets the game and returns the initial state\"\"\"\n",
    "\n",
    "        self.x = np.random.randint(3, self.grid_size-3, size=1)[0]\n",
    "        self.y = np.random.randint(3, self.grid_size-3, size=1)[0]\n",
    "\n",
    "\n",
    "        bonus = 0.5*np.random.binomial(1,self.temperature,size=self.grid_size**2)\n",
    "        bonus = bonus.reshape(self.grid_size,self.grid_size)\n",
    "\n",
    "        malus = -1.0*np.random.binomial(1,self.temperature,size=self.grid_size**2)\n",
    "        malus = malus.reshape(self.grid_size, self.grid_size)\n",
    "\n",
    "        self.to_draw = np.zeros((self.max_time+2, self.grid_size*self.scale, self.grid_size*self.scale, 3))\n",
    "\n",
    "\n",
    "        malus[bonus>0]=0\n",
    "\n",
    "        self.board = bonus + malus\n",
    "\n",
    "        self.position = np.zeros((self.grid_size, self.grid_size))\n",
    "        self.position[0:2,:]= -1\n",
    "        self.position[:,0:2] = -1\n",
    "        self.position[-2:, :] = -1\n",
    "        self.position[-2:, :] = -1\n",
    "        self.board[self.x,self.y] = 0\n",
    "        self.t = 0\n",
    "\n",
    "        state = np.concatenate((\n",
    "                               self.board.reshape(self.grid_size, self.grid_size,1),\n",
    "                        self.position.reshape(self.grid_size, self.grid_size,1)),axis=2)\n",
    "\n",
    "        state = state[self.x - 2:self.x + 3, self.y - 2:self.y + 3, :]\n",
    "        return state"
   ]
  },
  {
   "cell_type": "markdown",
   "metadata": {},
   "source": [
    "The following elements are important because they correspond to the hyper parameters for this project:"
   ]
  },
  {
   "cell_type": "code",
   "execution_count": 5,
   "metadata": {},
   "outputs": [],
   "source": [
    "# parameters\n",
    "size = 13\n",
    "T=200\n",
    "temperature=0.3\n",
    "epochs_train=51 # set small when debugging\n",
    "epochs_test=11 # set small when debugging\n",
    "\n",
    "# display videos\n",
    "def display_videos(name):\n",
    "    video = io.open(name, 'r+b').read()\n",
    "    encoded = base64.b64encode(video)\n",
    "    return '''<video alt=\"test\" controls>\n",
    "                <source src=\"data:video/mp4;base64,{0}\" type=\"video/mp4\" />\n",
    "             </video>'''.format(encoded.decode('ascii'))"
   ]
  },
  {
   "cell_type": "markdown",
   "metadata": {},
   "source": [
    "__Question 2__ Explain the use of the arrays ```position``` and ```board```."
   ]
  },
  {
   "cell_type": "markdown",
   "metadata": {},
   "source": [
    "**Answer**\n",
    "\n",
    "The position array gives the position the rat at a given moment. \n",
    "The board array gives the position of the poisonous cells and the cheese."
   ]
  },
  {
   "cell_type": "markdown",
   "metadata": {},
   "source": [
    "## Random Agent"
   ]
  },
  {
   "cell_type": "markdown",
   "metadata": {},
   "source": [
    "***\n",
    "__Question 3__ Implement a random Agent (only ```learned_act``` needs to be implemented):"
   ]
  },
  {
   "cell_type": "code",
   "execution_count": 6,
   "metadata": {},
   "outputs": [],
   "source": [
    "class RandomAgent(Agent):\n",
    "    def __init__(self):\n",
    "        super(RandomAgent, self).__init__()\n",
    "        pass\n",
    "\n",
    "    def learned_act(self, s):\n",
    "        return np.random.choice(4)"
   ]
  },
  {
   "cell_type": "markdown",
   "metadata": {},
   "source": [
    "***\n",
    "***\n",
    "__Question 4__ Visualize the game moves. You need to fill in the following function for the evaluation:"
   ]
  },
  {
   "cell_type": "code",
   "execution_count": 7,
   "metadata": {},
   "outputs": [],
   "source": [
    "def test(agent,env,epochs,prefix=''):\n",
    "    # Number of won games\n",
    "    score = 0\n",
    "        \n",
    "    for e in range(epochs):\n",
    "        \n",
    "        ##### FILL IN HERE\n",
    "        # At each epoch, we restart to a fresh game and get the initial state\n",
    "        state = env.reset()\n",
    "        # This assumes that the games will end\n",
    "        game_over = False\n",
    "\n",
    "        win = 0\n",
    "        lose = 0\n",
    "\n",
    "        while not game_over:\n",
    "            # The agent performs an action\n",
    "            action = agent.act(state , train = False)\n",
    "\n",
    "            # Apply an action to the environment, get the next state, the reward\n",
    "            # and if the games end\n",
    "            prev_state = state\n",
    "            state, reward, game_over = env.act(action)\n",
    "\n",
    "            # Update the counters\n",
    "            if reward > 0:\n",
    "                win = win + reward\n",
    "            if reward < 0:\n",
    "                lose = lose -reward\n",
    "        \n",
    "        \n",
    "        # Save as a mp4\n",
    "        env.draw(prefix+str(e))\n",
    "\n",
    "        # Update stats\n",
    "        score = score + win-lose\n",
    "\n",
    "        print(\"Win/lose count {}/{}. Average score ({})\"\n",
    "              .format(win, lose, score/(1+e)))\n",
    "        \n",
    "    print('Final score: '+str(score/epochs))"
   ]
  },
  {
   "cell_type": "code",
   "execution_count": 8,
   "metadata": {},
   "outputs": [
    {
     "name": "stdout",
     "output_type": "stream",
     "text": [
      "Win/lose count 6.5/12.0. Average score (-5.5)\n",
      "Win/lose count 6.5/17.0. Average score (-8.0)\n",
      "Win/lose count 10.0/17.0. Average score (-7.666666666666667)\n",
      "Win/lose count 6.0/16.0. Average score (-8.25)\n",
      "Win/lose count 13.5/8.0. Average score (-5.5)\n",
      "Win/lose count 6.5/14.0. Average score (-5.833333333333333)\n",
      "Win/lose count 10.5/13.0. Average score (-5.357142857142857)\n",
      "Win/lose count 10.0/14.0. Average score (-5.1875)\n",
      "Win/lose count 8.0/13.0. Average score (-5.166666666666667)\n",
      "Win/lose count 10.5/19.0. Average score (-5.5)\n",
      "Win/lose count 4.0/17.0. Average score (-6.181818181818182)\n",
      "Final score: -6.181818181818182\n"
     ]
    },
    {
     "data": {
      "text/html": [
       "<video alt=\"test\" controls>\n",
       "                <source src=\"data:video/mp4;base64,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\" type=\"video/mp4\" />\n",
       "             </video>"
      ],
      "text/plain": [
       "<IPython.core.display.HTML object>"
      ]
     },
     "execution_count": 8,
     "metadata": {},
     "output_type": "execute_result"
    }
   ],
   "source": [
    "# Initialize the game\n",
    "env = Environment(grid_size=size, max_time=T,temperature=temperature)\n",
    "\n",
    "# Initialize the agent!\n",
    "agent = RandomAgent()\n",
    "\n",
    "test(agent,env,epochs_test,prefix='random')\n",
    "HTML(display_videos('random0.mp4'))"
   ]
  },
  {
   "cell_type": "markdown",
   "metadata": {},
   "source": [
    "***\n",
    "## DQN"
   ]
  },
  {
   "cell_type": "markdown",
   "metadata": {},
   "source": [
    "Let us assume here that $T=\\infty$.\n",
    "\n",
    "***\n",
    "__Question 5__ Let $\\pi$ be a policy, show that:\n",
    "\n",
    "\\begin{equation*}\n",
    "Q^{\\pi}(s,a)=E_{(s',a')\\sim p(.|s,a)}[r(s,a)+\\gamma Q^{\\pi}(s',a')]\n",
    "\\end{equation*}\n",
    "\n",
    "Then, show that for the optimal policy $\\pi^*$ (we assume its existence), the following holds: \n",
    "\n",
    "\\begin{equation*}\n",
    "Q^{*}(s,a)=E_{s'\\sim \\pi^*(.|s,a)}[r(s,a)+\\gamma\\max_{a'}Q^{*}(s',a')].\n",
    "\\end{equation*}\n",
    "Finally, deduce that a plausible objective is:\n",
    "\n",
    "\\begin{equation*}\n",
    "\\mathcal{L}(\\theta)=E_{s' \\sim \\pi^*(.|s,a)}\\Vert r+\\gamma\\max\\max_{a'}Q(s',a',\\theta)-Q(s,a,\\theta)\\Vert^{2}.\n",
    "\\end{equation*}\n",
    "\n",
    "\n"
   ]
  },
  {
   "cell_type": "markdown",
   "metadata": {},
   "source": [
    "**Answer:**\n",
    "\n",
    "**1-** We have that:\n",
    "\n",
    "$$ Q^\\pi(s,a)=E_{p^{\\pi}}[\\sum_{t}\\gamma^{t}r(s_{t},a_{t})|s_{0}=s,a_{0}=a] \\> $$\n",
    "\n",
    "thus:\n",
    "\n",
    "$$ Q^\\pi(s,a)=E_{p^{\\pi}}[ r(s_{t},a_{t}) + \\sum_{1 \\leq t}\\gamma^{t}r(s_{t},a_{t})|s_{0}=s,a_{0}=a] \\> $$\n",
    "\n",
    "$$ Q^\\pi(s,a)=E_{p^{\\pi}}[ r(s,a) + \\gamma \\sum_{1 \\leq t}\\gamma^{t-1}r(s_{t},a_{t})|s_{0}=s,a_{0}=a] \\> $$\n",
    "\n",
    "thus (with $ (s_{t},a_{t}) = (s_{t}^\\prime,a_{t}^\\prime) $ and $ (s^\\prime,a^\\prime) = (s_1 , a_1)$  )\n",
    "\n",
    "$$ Q^\\pi(s,a)=E_{(s',a')\\sim p(.|s,a)}[ r(s,a) + E_{p^{\\pi}}[ \\gamma \\sum_{t}\\gamma^{t}r(s_{t}^\\prime,a_{t}^\\prime)|s_{0}^\\prime=s^\\prime,a_{0}^\\prime=a^\\prime] ] \\> $$\n",
    "\n",
    "and finally:\n",
    "\n",
    "$$ Q^{\\pi}(s,a)=E_{(s',a')\\sim p(.|s,a)}[r(s,a)+\\gamma Q^{\\pi}(s',a')] $$\n",
    "\n",
    "\n",
    "**2-**\n",
    "\n",
    "We have the following relationship between the optimal policy and the optimal Q function:\n",
    "\n",
    "(1) : $$ \\pi^*(s) = \\max_a Q^*(s,a) $$\n",
    "\n",
    "With the previous equation:\n",
    "\n",
    "$$ Q^{*}(s,a)=E_{(s',a')\\sim \\pi^* (.|s,a)}[r(s,a)+\\gamma Q^{\\pi^*}(s',\\pi^*(s'))] $$\n",
    "\n",
    "By replacing $ \\pi^*(s) $ by its expression in (1), We have :\n",
    "\n",
    "\\begin{equation*}\n",
    "Q^{*}(s,a)=E_{s'\\sim \\pi^*(.|s,a)}[r(s,a)+\\gamma\\max_{a'}Q^{*}(s',a')].\n",
    "\\end{equation*}\n",
    "\n",
    "** 3- **\n",
    "\n",
    "The previous equation show that: \n",
    "\n",
    "\\begin{equation*}\n",
    "E_{s' \\sim \\pi^*(.|s,a)}\\Vert r+\\gamma\\max\\max_{a'}Q^*(s',a',\\theta)-Q^*(s,a,\\theta)\\Vert^{2} = 0 \\text{ if Q = Q* and is strictly positive otherwise}\n",
    "\\end{equation*}\n",
    "\n",
    "Thus minimizing the following objective is a viable option for training the DQN:\n",
    "\n",
    "\\begin{equation*}\n",
    "\\mathcal{L}(\\theta)=E_{s' \\sim \\pi^*(.|s,a)}\\Vert r+\\gamma\\max\\max_{a'}Q(s',a',\\theta)-Q(s,a,\\theta)\\Vert^{2}.\n",
    "\\end{equation*}\n"
   ]
  },
  {
   "cell_type": "markdown",
   "metadata": {},
   "source": [
    "***\n",
    "The DQN-learning algorithm relies on these derivations to train the parameters $\\theta$ of a Deep Neural Network:\n",
    "\n",
    "1. At the state $s_t$, select the action $a_t$ with best reward using $Q_t$ and store the results;\n",
    "\n",
    "2. Obtain the new state $s_{t+1}$ from the environment $p$;\n",
    "\n",
    "3. Store $(s_t,a_t,s_{t+1})$;\n",
    "\n",
    "4. Obtain $Q_{t+1}$ by minimizing  $\\mathcal{L}$ from a recovered batch from the previously stored results.\n",
    "\n",
    "***\n",
    "__Question 6__ Implement the class ```Memory``` that stores moves (in a replay buffer) via ```remember``` and provides a ```random_access``` to these. Specify a maximum memory size to avoid side effects. You can for example use a ```list()``` and set by default ```max_memory=100```."
   ]
  },
  {
   "cell_type": "code",
   "execution_count": 9,
   "metadata": {},
   "outputs": [],
   "source": [
    "class Memory(object):\n",
    "    def __init__(self, max_memory=100):\n",
    "        self.max_memory = max_memory\n",
    "        self.memory = list()\n",
    "\n",
    "    def remember(self, m):\n",
    "        self.memory.append(m)\n",
    "        self.memory = self.memory[-self.max_memory:]\n",
    "\n",
    "    def random_access(self):\n",
    "        return self.memory[np.random.choice(len(self.memory))]"
   ]
  },
  {
   "cell_type": "markdown",
   "metadata": {},
   "source": [
    "***\n",
    "The pipeline we will use for training is given below:"
   ]
  },
  {
   "cell_type": "code",
   "execution_count": 10,
   "metadata": {},
   "outputs": [],
   "source": [
    "def train(agent,env,epoch,prefix=''):\n",
    "    # Number of won games\n",
    "    score = 0\n",
    "    loss = 0\n",
    "\n",
    "    for e in range(epoch):\n",
    "        # At each epoch, we restart to a fresh game and get the initial state\n",
    "        state = env.reset()\n",
    "        # This assumes that the games will terminate\n",
    "        game_over = False\n",
    "\n",
    "        win = 0\n",
    "        lose = 0\n",
    "\n",
    "        while not game_over:\n",
    "            # The agent performs an action\n",
    "            action = agent.act(state)\n",
    "\n",
    "            # Apply an action to the environment, get the next state, the reward\n",
    "            # and if the games end\n",
    "            prev_state = state\n",
    "            state, reward, game_over = env.act(action)\n",
    "\n",
    "            # Update the counters\n",
    "            if reward > 0:\n",
    "                win = win + reward\n",
    "            if reward < 0:\n",
    "                lose = lose -reward\n",
    "\n",
    "            # Apply the reinforcement strategy\n",
    "            loss = agent.reinforce(prev_state, state,  action, reward, game_over)\n",
    "\n",
    "        # Save as a mp4\n",
    "        if e % 10 == 0:\n",
    "            env.draw(prefix+str(e))\n",
    "\n",
    "        # Update stats\n",
    "        score += win-lose\n",
    "\n",
    "        print(\"Epoch {:03d}/{:03d} | Loss {:.4f} | Win/lose count {}/{} ({})\"\n",
    "              .format(e, epoch, loss, win, lose, win-lose))\n",
    "        agent.save(name_weights=prefix+'model.h5',name_model=prefix+'model.json')"
   ]
  },
  {
   "cell_type": "markdown",
   "metadata": {},
   "source": [
    "***\n",
    "__Question 7__ Implement the DQN training algorithm using a cascade of fully connected layers. You can use different learning rate, batch size or memory size parameters. In particular, the loss might oscillate while the player will start to win the games. You have to find a good criterium."
   ]
  },
  {
   "cell_type": "code",
   "execution_count": 11,
   "metadata": {},
   "outputs": [],
   "source": [
    "from keras.layers.core import Dense, Flatten\n",
    "\n",
    "class DQN(Agent):\n",
    "    def __init__(self, grid_size,  epsilon = 0.1, memory_size=100, batch_size = 16,n_state=2):\n",
    "        super(DQN, self).__init__(epsilon = epsilon)\n",
    "\n",
    "        # Discount for Q learning\n",
    "        self.discount = 0.99\n",
    "        \n",
    "        self.grid_size = grid_size\n",
    "        \n",
    "        # number of state\n",
    "        self.n_state = n_state\n",
    "\n",
    "        # Memory\n",
    "        self.memory = Memory(memory_size)\n",
    "        \n",
    "        # Batch size when learning\n",
    "        self.batch_size = batch_size\n",
    "\n",
    "    def learned_act(self, s):\n",
    "        return np.argmax(self.model.predict(s.reshape(1 , 5 , 5 , self.n_state)))\n",
    "\n",
    "    def reinforce(self, s_, n_s_, a_, r_, game_over_):\n",
    "        # Two steps: first memorize the states, second learn from the pool\n",
    "\n",
    "        self.memory.remember([s_, n_s_, a_, r_, game_over_])\n",
    "        \n",
    "        input_states = np.zeros((self.batch_size, 5,5,self.n_state))\n",
    "        target_q = np.zeros((self.batch_size, 4))\n",
    "        \n",
    "        for i in range(self.batch_size):\n",
    "            ######## FILL IN\n",
    "            s_, n_s_, a_, r_, game_over_ = self.memory.random_access()\n",
    "            input_states[i] = s_\n",
    "            target_q[i] = self.model.predict(s_.reshape(1 , 5 , 5 , self.n_state))\n",
    "            if game_over_:\n",
    "                ######## FILL IN\n",
    "                target_q[i,a_] = r_\n",
    "            else:\n",
    "                ######## FILL IN\n",
    "                target_q[i,a_] = r_ + self.discount*np.max(self.model.predict(n_s_.reshape(1 , 5 , 5 , self.n_state)))\n",
    "                \n",
    "        ######## FILL IN\n",
    "        # HINT: Clip the target to avoid exploiding gradients.. -- clipping is a bit tighter\n",
    "        target_q = np.clip(target_q, -2, 2)\n",
    "\n",
    "        l = self.model.train_on_batch(input_states, target_q)\n",
    "\n",
    "\n",
    "        return l\n",
    "\n",
    "    def save(self,name_weights='model.h5',name_model='model.json'):\n",
    "        self.model.save_weights(name_weights, overwrite=True)\n",
    "        with open(name_model, \"w\") as outfile:\n",
    "            json.dump(self.model.to_json(), outfile)\n",
    "            \n",
    "    def load(self,name_weights='model.h5',name_model='model.json'):\n",
    "        with open(name_model, \"r\") as jfile:\n",
    "            model = model_from_json(json.load(jfile))\n",
    "        model.load_weights(name_weights)\n",
    "        model.compile(\"sgd\", \"mse\")\n",
    "        self.model = model\n",
    "\n",
    "            \n",
    "class DQN_FC(DQN):\n",
    "    def __init__(self, *args, lr=0.1,**kwargs):\n",
    "        super(DQN_FC, self).__init__( *args,**kwargs)\n",
    "        \n",
    "        # NN Model\n",
    "        \n",
    "        ####### FILL IN\n",
    "        model = Sequential()\n",
    "        model.add(Flatten(input_shape = (5 , 5 , self.n_state)))\n",
    "        model.add(Dense(64))\n",
    "        model.add(Activation('relu'))\n",
    "        model.add(Dense(64))\n",
    "        model.add(Activation('relu'))\n",
    "        model.add(Dense(4))\n",
    "        \n",
    "        \n",
    "        model.compile(sgd(lr=lr, decay=1e-4, momentum=0.0), \"mse\")\n",
    "        self.model = model\n",
    "        "
   ]
  },
  {
   "cell_type": "code",
   "execution_count": 12,
   "metadata": {
    "scrolled": true
   },
   "outputs": [
    {
     "name": "stdout",
     "output_type": "stream",
     "text": [
      "Epoch 000/051 | Loss 0.0025 | Win/lose count 1.0/4.0 (-3.0)\n",
      "Epoch 001/051 | Loss 0.0025 | Win/lose count 4.0/5.0 (-1.0)\n",
      "Epoch 002/051 | Loss 0.0064 | Win/lose count 3.5/4.0 (-0.5)\n",
      "Epoch 003/051 | Loss 0.0025 | Win/lose count 4.5/10.0 (-5.5)\n",
      "Epoch 004/051 | Loss 0.0104 | Win/lose count 4.0/3.0 (1.0)\n",
      "Epoch 005/051 | Loss 0.0112 | Win/lose count 8.0/3.0 (5.0)\n",
      "Epoch 006/051 | Loss 0.0044 | Win/lose count 1.5/2.0 (-0.5)\n",
      "Epoch 007/051 | Loss 0.0115 | Win/lose count 4.0/4.0 (0.0)\n",
      "Epoch 008/051 | Loss 0.0080 | Win/lose count 2.5/4.0 (-1.5)\n",
      "Epoch 009/051 | Loss 0.0019 | Win/lose count 0/2.0 (-2.0)\n",
      "Epoch 010/051 | Loss 0.0072 | Win/lose count 9.0/8.0 (1.0)\n",
      "Epoch 011/051 | Loss 0.0032 | Win/lose count 4.0/2.0 (2.0)\n",
      "Epoch 012/051 | Loss 0.0083 | Win/lose count 7.0/4.0 (3.0)\n",
      "Epoch 013/051 | Loss 0.0122 | Win/lose count 6.5/3.0 (3.5)\n",
      "Epoch 014/051 | Loss 0.0021 | Win/lose count 4.5/3.0 (1.5)\n",
      "Epoch 015/051 | Loss 0.0218 | Win/lose count 8.0/7.0 (1.0)\n",
      "Epoch 016/051 | Loss 0.0028 | Win/lose count 6.5/2.0 (4.5)\n",
      "Epoch 017/051 | Loss 0.0201 | Win/lose count 6.5/2.0 (4.5)\n",
      "Epoch 018/051 | Loss 0.0036 | Win/lose count 5.5/4.0 (1.5)\n",
      "Epoch 019/051 | Loss 0.0223 | Win/lose count 8.5/5.0 (3.5)\n",
      "Epoch 020/051 | Loss 0.0222 | Win/lose count 5.5/1.0 (4.5)\n",
      "Epoch 021/051 | Loss 0.0013 | Win/lose count 5.0/1.0 (4.0)\n",
      "Epoch 022/051 | Loss 0.0015 | Win/lose count 11.5/4.0 (7.5)\n",
      "Epoch 023/051 | Loss 0.0012 | Win/lose count 0.5/2.0 (-1.5)\n",
      "Epoch 024/051 | Loss 0.0071 | Win/lose count 10.5/3.0 (7.5)\n",
      "Epoch 025/051 | Loss 0.0030 | Win/lose count 5.5/4.0 (1.5)\n",
      "Epoch 026/051 | Loss 0.0040 | Win/lose count 6.5/0 (6.5)\n",
      "Epoch 027/051 | Loss 0.0017 | Win/lose count 12.0/3.0 (9.0)\n",
      "Epoch 028/051 | Loss 0.0202 | Win/lose count 4.0/3.0 (1.0)\n",
      "Epoch 029/051 | Loss 0.0020 | Win/lose count 5.0/2.0 (3.0)\n",
      "Epoch 030/051 | Loss 0.0026 | Win/lose count 4.5/1.0 (3.5)\n",
      "Epoch 031/051 | Loss 0.0044 | Win/lose count 15.5/3.0 (12.5)\n",
      "Epoch 032/051 | Loss 0.0025 | Win/lose count 6.0/2.0 (4.0)\n",
      "Epoch 033/051 | Loss 0.0049 | Win/lose count 4.5/3.0 (1.5)\n",
      "Epoch 034/051 | Loss 0.0023 | Win/lose count 4.5/2.0 (2.5)\n",
      "Epoch 035/051 | Loss 0.0032 | Win/lose count 11.5/0 (11.5)\n",
      "Epoch 036/051 | Loss 0.0033 | Win/lose count 5.0/0 (5.0)\n",
      "Epoch 037/051 | Loss 0.0017 | Win/lose count 3.5/3.0 (0.5)\n",
      "Epoch 038/051 | Loss 0.0021 | Win/lose count 11.5/3.0 (8.5)\n",
      "Epoch 039/051 | Loss 0.0022 | Win/lose count 4.0/3.0 (1.0)\n",
      "Epoch 040/051 | Loss 0.0036 | Win/lose count 10.5/7.0 (3.5)\n",
      "Epoch 041/051 | Loss 0.0017 | Win/lose count 11.0/3.0 (8.0)\n",
      "Epoch 042/051 | Loss 0.0031 | Win/lose count 7.0/3.0 (4.0)\n",
      "Epoch 043/051 | Loss 0.0072 | Win/lose count 5.5/5.0 (0.5)\n",
      "Epoch 044/051 | Loss 0.0017 | Win/lose count 9.5/2.0 (7.5)\n",
      "Epoch 045/051 | Loss 0.0018 | Win/lose count 4.5/2.0 (2.5)\n",
      "Epoch 046/051 | Loss 0.0027 | Win/lose count 5.0/1.0 (4.0)\n",
      "Epoch 047/051 | Loss 0.0025 | Win/lose count 3.5/2.0 (1.5)\n",
      "Epoch 048/051 | Loss 0.0343 | Win/lose count 9.0/0 (9.0)\n",
      "Epoch 049/051 | Loss 0.0017 | Win/lose count 7.0/3.0 (4.0)\n",
      "Epoch 050/051 | Loss 0.0057 | Win/lose count 1.0/0 (1.0)\n"
     ]
    },
    {
     "data": {
      "text/html": [
       "<video alt=\"test\" controls>\n",
       "                <source src=\"data:video/mp4;base64,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\" type=\"video/mp4\" />\n",
       "             </video>"
      ],
      "text/plain": [
       "<IPython.core.display.HTML object>"
      ]
     },
     "execution_count": 12,
     "metadata": {},
     "output_type": "execute_result"
    }
   ],
   "source": [
    "env = Environment(grid_size=size, max_time=T, temperature=0.3)\n",
    "agent = DQN_FC(size, lr=.1, epsilon = 0.1, memory_size=2000, batch_size = 32)\n",
    "train(agent, env, epochs_train, prefix='fc_train')\n",
    "HTML(display_videos('fc_train50.mp4'))"
   ]
  },
  {
   "cell_type": "markdown",
   "metadata": {},
   "source": [
    "***\n",
    "***\n",
    "__Question 8__ Implement the DQN training algorithm using a CNN (for example, 2 convolutional layers and one final fully connected layer)."
   ]
  },
  {
   "cell_type": "code",
   "execution_count": 13,
   "metadata": {},
   "outputs": [],
   "source": [
    "class DQN_CNN(DQN):\n",
    "    def __init__(self, *args,lr=0.1,**kwargs):\n",
    "        super(DQN_CNN, self).__init__(*args,**kwargs)\n",
    "        \n",
    "        ###### FILL IN\n",
    "        model = Sequential()\n",
    "        \n",
    "        model.add(Conv2D(32 , 2 , input_shape = (5,5,self.n_state) , padding= 'same'))\n",
    "        model.add(Activation('relu'))\n",
    "        model.add(Conv2D(64 , 2))\n",
    "        model.add(Activation('relu'))\n",
    "        model.add(Flatten())\n",
    "        model.add(Dense(4))\n",
    "        \n",
    "        model.compile(sgd(lr=lr, decay=1e-4, momentum=0.0), \"mse\")\n",
    "        self.model = model"
   ]
  },
  {
   "cell_type": "code",
   "execution_count": 14,
   "metadata": {
    "scrolled": true
   },
   "outputs": [
    {
     "name": "stdout",
     "output_type": "stream",
     "text": [
      "Epoch 000/051 | Loss 0.0012 | Win/lose count 3.0/0 (3.0)\n",
      "Epoch 001/051 | Loss 0.0006 | Win/lose count 3.5/7.0 (-3.5)\n",
      "Epoch 002/051 | Loss 0.0026 | Win/lose count 3.0/0 (3.0)\n",
      "Epoch 003/051 | Loss 0.0280 | Win/lose count 3.5/1.0 (2.5)\n",
      "Epoch 004/051 | Loss 0.0071 | Win/lose count 3.5/5.0 (-1.5)\n",
      "Epoch 005/051 | Loss 0.0006 | Win/lose count 3.0/3.0 (0.0)\n",
      "Epoch 006/051 | Loss 0.0040 | Win/lose count 0.5/4.0 (-3.5)\n",
      "Epoch 007/051 | Loss 0.0058 | Win/lose count 3.5/2.0 (1.5)\n",
      "Epoch 008/051 | Loss 0.0010 | Win/lose count 4.0/2.0 (2.0)\n",
      "Epoch 009/051 | Loss 0.0020 | Win/lose count 2.5/2.0 (0.5)\n",
      "Epoch 010/051 | Loss 0.0218 | Win/lose count 3.5/0 (3.5)\n",
      "Epoch 011/051 | Loss 0.0060 | Win/lose count 4.5/5.0 (-0.5)\n",
      "Epoch 012/051 | Loss 0.0016 | Win/lose count 3.0/2.0 (1.0)\n",
      "Epoch 013/051 | Loss 0.0048 | Win/lose count 5.0/1.0 (4.0)\n",
      "Epoch 014/051 | Loss 0.0032 | Win/lose count 5.5/1.0 (4.5)\n",
      "Epoch 015/051 | Loss 0.0006 | Win/lose count 3.5/4.0 (-0.5)\n",
      "Epoch 016/051 | Loss 0.0052 | Win/lose count 6.0/1.0 (5.0)\n",
      "Epoch 017/051 | Loss 0.0007 | Win/lose count 4.0/4.0 (0.0)\n",
      "Epoch 018/051 | Loss 0.0014 | Win/lose count 5.5/2.0 (3.5)\n",
      "Epoch 019/051 | Loss 0.0011 | Win/lose count 7.0/0 (7.0)\n",
      "Epoch 020/051 | Loss 0.0009 | Win/lose count 5.5/2.0 (3.5)\n",
      "Epoch 021/051 | Loss 0.0015 | Win/lose count 7.5/0 (7.5)\n",
      "Epoch 022/051 | Loss 0.0028 | Win/lose count 8.5/4.0 (4.5)\n",
      "Epoch 023/051 | Loss 0.0050 | Win/lose count 3.5/1.0 (2.5)\n",
      "Epoch 024/051 | Loss 0.0192 | Win/lose count 7.5/2.0 (5.5)\n",
      "Epoch 025/051 | Loss 0.0007 | Win/lose count 3.0/0 (3.0)\n",
      "Epoch 026/051 | Loss 0.0033 | Win/lose count 9.0/4.0 (5.0)\n",
      "Epoch 027/051 | Loss 0.0028 | Win/lose count 12.5/3.0 (9.5)\n",
      "Epoch 028/051 | Loss 0.0005 | Win/lose count 4.5/0 (4.5)\n",
      "Epoch 029/051 | Loss 0.0030 | Win/lose count 8.5/3.0 (5.5)\n",
      "Epoch 030/051 | Loss 0.0007 | Win/lose count 5.5/1.0 (4.5)\n",
      "Epoch 031/051 | Loss 0.0006 | Win/lose count 10.0/0 (10.0)\n",
      "Epoch 032/051 | Loss 0.0024 | Win/lose count 5.5/1.0 (4.5)\n",
      "Epoch 033/051 | Loss 0.0008 | Win/lose count 3.5/2.0 (1.5)\n",
      "Epoch 034/051 | Loss 0.0009 | Win/lose count 13.0/3.0 (10.0)\n",
      "Epoch 035/051 | Loss 0.0009 | Win/lose count 4.5/1.0 (3.5)\n",
      "Epoch 036/051 | Loss 0.0022 | Win/lose count 5.0/3.0 (2.0)\n",
      "Epoch 037/051 | Loss 0.0245 | Win/lose count 15.0/1.0 (14.0)\n",
      "Epoch 038/051 | Loss 0.0029 | Win/lose count 16.5/5.0 (11.5)\n",
      "Epoch 039/051 | Loss 0.0010 | Win/lose count 18.0/3.0 (15.0)\n",
      "Epoch 040/051 | Loss 0.0237 | Win/lose count 16.0/1.0 (15.0)\n",
      "Epoch 041/051 | Loss 0.0009 | Win/lose count 9.5/1.0 (8.5)\n",
      "Epoch 042/051 | Loss 0.0008 | Win/lose count 18.5/1.0 (17.5)\n",
      "Epoch 043/051 | Loss 0.0228 | Win/lose count 8.0/2.0 (6.0)\n",
      "Epoch 044/051 | Loss 0.0227 | Win/lose count 18.5/2.0 (16.5)\n",
      "Epoch 045/051 | Loss 0.0019 | Win/lose count 7.0/1.0 (6.0)\n",
      "Epoch 046/051 | Loss 0.0021 | Win/lose count 17.0/1.0 (16.0)\n",
      "Epoch 047/051 | Loss 0.0028 | Win/lose count 8.0/1.0 (7.0)\n",
      "Epoch 048/051 | Loss 0.0010 | Win/lose count 16.5/2.0 (14.5)\n",
      "Epoch 049/051 | Loss 0.0241 | Win/lose count 4.0/1.0 (3.0)\n",
      "Epoch 050/051 | Loss 0.0195 | Win/lose count 9.5/3.0 (6.5)\n"
     ]
    },
    {
     "data": {
      "text/html": [
       "<video alt=\"test\" controls>\n",
       "                <source src=\"data:video/mp4;base64,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\" type=\"video/mp4\" />\n",
       "             </video>"
      ],
      "text/plain": [
       "<IPython.core.display.HTML object>"
      ]
     },
     "execution_count": 14,
     "metadata": {},
     "output_type": "execute_result"
    }
   ],
   "source": [
    "env = Environment(grid_size=size, max_time=T, temperature=0.3)\n",
    "agent = DQN_CNN(size, lr=.1, epsilon = 0.1, memory_size=2000, batch_size = 32)\n",
    "train(agent,env,epochs_train,prefix='cnn_train')\n",
    "HTML(display_videos('cnn_train50.mp4'))"
   ]
  },
  {
   "cell_type": "markdown",
   "metadata": {},
   "source": [
    "***\n",
    "***\n",
    "__Question 9__ Test both algorithms and compare their performances. Which issue(s) do you observe? Observe also different behaviors by changing the temperature."
   ]
  },
  {
   "cell_type": "code",
   "execution_count": 24,
   "metadata": {},
   "outputs": [
    {
     "name": "stdout",
     "output_type": "stream",
     "text": [
      "Test of the CNN\n",
      "Win/lose count 0.5/0. Average score (0.5)\n",
      "Win/lose count 2.0/0. Average score (1.25)\n",
      "Win/lose count 0.5/0. Average score (1.0)\n",
      "Win/lose count 0/0. Average score (0.75)\n",
      "Win/lose count 0/0. Average score (0.6)\n",
      "Win/lose count 2.0/0. Average score (0.8333333333333334)\n",
      "Win/lose count 1.5/0. Average score (0.9285714285714286)\n",
      "Win/lose count 0/0. Average score (0.8125)\n",
      "Win/lose count 2.5/0. Average score (1.0)\n",
      "Win/lose count 0/0. Average score (0.9)\n",
      "Win/lose count 0.5/0. Average score (0.8636363636363636)\n",
      "Final score: 0.8636363636363636\n",
      "Test of the FC\n",
      "Win/lose count 0/1.0. Average score (-1.0)\n",
      "Win/lose count 0/1.0. Average score (-1.0)\n",
      "Win/lose count 0/0. Average score (-0.6666666666666666)\n",
      "Win/lose count 0/1.0. Average score (-0.75)\n",
      "Win/lose count 0.5/0. Average score (-0.5)\n",
      "Win/lose count 0/1.0. Average score (-0.5833333333333334)\n",
      "Win/lose count 0/1.0. Average score (-0.6428571428571429)\n",
      "Win/lose count 0.5/2.0. Average score (-0.75)\n",
      "Win/lose count 1.0/0. Average score (-0.5555555555555556)\n",
      "Win/lose count 1.0/1.0. Average score (-0.5)\n",
      "Win/lose count 0/0. Average score (-0.45454545454545453)\n",
      "Final score: -0.45454545454545453\n"
     ]
    },
    {
     "data": {
      "text/html": [
       "<video alt=\"test\" controls>\n",
       "                <source src=\"data:video/mp4;base64,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\" type=\"video/mp4\" />\n",
       "             </video>"
      ],
      "text/plain": [
       "<IPython.core.display.HTML object>"
      ]
     },
     "execution_count": 24,
     "metadata": {},
     "output_type": "execute_result"
    }
   ],
   "source": [
    "env = Environment(grid_size=size, max_time=T,temperature=0.1)\n",
    "agent_cnn = DQN_CNN(size, lr=.1, epsilon = 0.1, memory_size=2000, batch_size = 32)\n",
    "agent_cnn.load(name_weights='cnn_trainmodel.h5',name_model='cnn_trainmodel.json')\n",
    "\n",
    "agent_fc = DQN_FC(size, lr=.1, epsilon = 0.1, memory_size=2000, batch_size = 32)\n",
    "agent_cnn.load(name_weights='fc_trainmodel.h5',name_model='fc_trainmodel.json')\n",
    "print('Test of the CNN')\n",
    "test(agent_cnn,env,epochs_test,prefix='cnn_test')\n",
    "print('Test of the FC')\n",
    "test(agent_fc,env,epochs_test,prefix='fc_test')\n",
    "\n",
    "HTML(display_videos('cnn_test1.mp4'))"
   ]
  },
  {
   "cell_type": "code",
   "execution_count": 25,
   "metadata": {},
   "outputs": [
    {
     "data": {
      "text/html": [
       "<video alt=\"test\" controls>\n",
       "                <source src=\"data:video/mp4;base64,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\" type=\"video/mp4\" />\n",
       "             </video>"
      ],
      "text/plain": [
       "<IPython.core.display.HTML object>"
      ]
     },
     "execution_count": 25,
     "metadata": {},
     "output_type": "execute_result"
    }
   ],
   "source": [
    "HTML(display_videos('fc_test1.mp4'))"
   ]
  },
  {
   "cell_type": "code",
   "execution_count": 27,
   "metadata": {},
   "outputs": [
    {
     "name": "stdout",
     "output_type": "stream",
     "text": [
      "Test of the CNN\n",
      "Win/lose count 1.5/0. Average score (1.5)\n",
      "Win/lose count 17.0/1.0. Average score (8.75)\n",
      "Win/lose count 3.0/0. Average score (6.833333333333333)\n",
      "Win/lose count 8.5/0. Average score (7.25)\n",
      "Win/lose count 1.0/0. Average score (6.0)\n",
      "Win/lose count 19.0/0. Average score (8.166666666666666)\n",
      "Win/lose count 17.0/0. Average score (9.428571428571429)\n",
      "Win/lose count 3.0/0. Average score (8.625)\n",
      "Win/lose count 10.0/0. Average score (8.777777777777779)\n",
      "Win/lose count 4.0/0. Average score (8.3)\n",
      "Win/lose count 5.5/0. Average score (8.045454545454545)\n",
      "Final score: 8.045454545454545\n",
      "Test of the FC\n",
      "Win/lose count 4.5/3.0. Average score (1.5)\n",
      "Win/lose count 0.5/0. Average score (1.0)\n",
      "Win/lose count 3.0/5.0. Average score (0.0)\n",
      "Win/lose count 2.5/2.0. Average score (0.125)\n",
      "Win/lose count 0/1.0. Average score (-0.1)\n",
      "Win/lose count 7.0/2.0. Average score (0.75)\n",
      "Win/lose count 3.5/0. Average score (1.1428571428571428)\n",
      "Win/lose count 1.5/1.0. Average score (1.0625)\n",
      "Win/lose count 1.5/2.0. Average score (0.8888888888888888)\n",
      "Win/lose count 1.0/1.0. Average score (0.8)\n",
      "Win/lose count 1.0/0. Average score (0.8181818181818182)\n",
      "Final score: 0.8181818181818182\n"
     ]
    },
    {
     "data": {
      "text/html": [
       "<video alt=\"test\" controls>\n",
       "                <source src=\"data:video/mp4;base64,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\" type=\"video/mp4\" />\n",
       "             </video>"
      ],
      "text/plain": [
       "<IPython.core.display.HTML object>"
      ]
     },
     "execution_count": 27,
     "metadata": {},
     "output_type": "execute_result"
    }
   ],
   "source": [
    "env = Environment(grid_size=size, max_time=T,temperature=0.8)\n",
    "agent_cnn = DQN_CNN(size, lr=.1, epsilon = 0.1, memory_size=2000, batch_size = 32)\n",
    "agent_cnn.load(name_weights='cnn_trainmodel.h5',name_model='cnn_trainmodel.json')\n",
    "\n",
    "agent_fc = DQN_FC(size, lr=.1, epsilon = 0.1, memory_size=2000, batch_size = 32)\n",
    "agent_cnn.load(name_weights='fc_trainmodel.h5',name_model='fc_trainmodel.json')\n",
    "print('Test of the CNN')\n",
    "test(agent_cnn,env,epochs_test,prefix='cnn_test')\n",
    "print('Test of the FC')\n",
    "test(agent_fc,env,epochs_test,prefix='fc_test')\n",
    "\n",
    "HTML(display_videos('cnn_test1.mp4'))\n"
   ]
  },
  {
   "cell_type": "code",
   "execution_count": 26,
   "metadata": {},
   "outputs": [
    {
     "data": {
      "text/html": [
       "<video alt=\"test\" controls>\n",
       "                <source src=\"data:video/mp4;base64,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\" type=\"video/mp4\" />\n",
       "             </video>"
      ],
      "text/plain": [
       "<IPython.core.display.HTML object>"
      ]
     },
     "execution_count": 26,
     "metadata": {},
     "output_type": "execute_result"
    }
   ],
   "source": [
    "HTML(display_videos('fc_test1.mp4'))"
   ]
  },
  {
   "cell_type": "code",
   "execution_count": 30,
   "metadata": {},
   "outputs": [
    {
     "name": "stdout",
     "output_type": "stream",
     "text": [
      "Test of the CNN\n",
      "Win/lose count 2.5/0. Average score (2.5)\n",
      "Win/lose count 3.5/0. Average score (3.0)\n",
      "Win/lose count 2.5/0. Average score (2.8333333333333335)\n",
      "Win/lose count 1.0/0. Average score (2.375)\n",
      "Win/lose count 1.5/0. Average score (2.2)\n",
      "Win/lose count 0/0. Average score (1.8333333333333333)\n",
      "Win/lose count 0.5/0. Average score (1.6428571428571428)\n",
      "Win/lose count 0.5/0. Average score (1.5)\n",
      "Win/lose count 7.5/0. Average score (2.1666666666666665)\n",
      "Win/lose count 3.0/0. Average score (2.25)\n",
      "Win/lose count 0/0. Average score (2.0454545454545454)\n",
      "Final score: 2.0454545454545454\n",
      "Test of the FC\n",
      "Win/lose count 0.5/0. Average score (0.5)\n",
      "Win/lose count 0.5/2.0. Average score (-0.5)\n",
      "Win/lose count 1.0/1.0. Average score (-0.3333333333333333)\n",
      "Win/lose count 0/0. Average score (-0.25)\n",
      "Win/lose count 0.5/0. Average score (-0.1)\n",
      "Win/lose count 1.0/0. Average score (0.08333333333333333)\n",
      "Win/lose count 0.5/1.0. Average score (0.0)\n",
      "Win/lose count 1.0/1.0. Average score (0.0)\n",
      "Win/lose count 1.5/0. Average score (0.16666666666666666)\n",
      "Win/lose count 0.5/4.0. Average score (-0.2)\n",
      "Win/lose count 2.5/1.0. Average score (-0.045454545454545456)\n",
      "Final score: -0.045454545454545456\n"
     ]
    },
    {
     "data": {
      "text/html": [
       "<video alt=\"test\" controls>\n",
       "                <source src=\"data:video/mp4;base64,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\" type=\"video/mp4\" />\n",
       "             </video>"
      ],
      "text/plain": [
       "<IPython.core.display.HTML object>"
      ]
     },
     "execution_count": 30,
     "metadata": {},
     "output_type": "execute_result"
    }
   ],
   "source": [
    "env = Environment(grid_size=size, max_time=T,temperature=0.3)\n",
    "agent_cnn = DQN_CNN(size, lr=.1, epsilon = 0.1, memory_size=2000, batch_size = 32)\n",
    "agent_cnn.load(name_weights='cnn_trainmodel.h5',name_model='cnn_trainmodel.json')\n",
    "\n",
    "agent_fc = DQN_FC(size, lr=.1, epsilon = 0.1, memory_size=2000, batch_size = 32)\n",
    "agent_cnn.load(name_weights='fc_trainmodel.h5',name_model='fc_trainmodel.json')\n",
    "print('Test of the CNN')\n",
    "test(agent_cnn,env,epochs_test,prefix='cnn_test')\n",
    "print('Test of the FC')\n",
    "test(agent_fc,env,epochs_test,prefix='fc_test')\n",
    "\n",
    "HTML(display_videos('cnn_test3.mp4'))\n"
   ]
  },
  {
   "cell_type": "code",
   "execution_count": 29,
   "metadata": {},
   "outputs": [
    {
     "data": {
      "text/html": [
       "<video alt=\"test\" controls>\n",
       "                <source src=\"data:video/mp4;base64,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\" type=\"video/mp4\" />\n",
       "             </video>"
      ],
      "text/plain": [
       "<IPython.core.display.HTML object>"
      ]
     },
     "execution_count": 29,
     "metadata": {},
     "output_type": "execute_result"
    }
   ],
   "source": [
    "HTML(display_videos('fc_test1.mp4'))"
   ]
  },
  {
   "cell_type": "markdown",
   "metadata": {},
   "source": [
    "**Answer**\n",
    "\n",
    "The CNN performs better in average than the Fully Connected layer. But we observe that the FC agent and the CNN agent both stay in a confined region of the space and do not explore the totality of the board. This is an issue because it means that the agents did not converge to optimal solutions.\n",
    "\n",
    "However when the temperature is higher, the agent tends to move more freely due to a higher expected value function. "
   ]
  },
  {
   "cell_type": "markdown",
   "metadata": {},
   "source": [
    "***\n",
    "\n",
    "The algorithm tends to not explore the map which can be an issue. We propose two ideas in order to encourage exploration:\n",
    "1. Incorporating a decreasing $\\epsilon$-greedy exploration. You can use the method ```set_epsilon```\n",
    "2. Append via the environment a new state that describes if a cell has been visited or not\n",
    "\n",
    "***\n",
    "__Question 10__ Design a new ```train_explore``` function and environment class ```EnvironmentExploring``` to tackle the issue of exploration.\n",
    "\n"
   ]
  },
  {
   "cell_type": "code",
   "execution_count": 18,
   "metadata": {},
   "outputs": [],
   "source": [
    "def train_explore(agent,env,epoch,prefix=''):\n",
    "    # Number of won games\n",
    "    score = 0\n",
    "    loss = 0\n",
    "    eps_start , eps_decay = 0.8 , 0.9\n",
    "\n",
    "    for e in range(epoch):\n",
    "        # At each epoch, we restart to a fresh game and get the initial state\n",
    "        state = env.reset()\n",
    "        # This assumes that the games will terminate\n",
    "        game_over = False\n",
    "\n",
    "        win = 0\n",
    "        lose = 0\n",
    "        \n",
    "        #### Exploraton probability\n",
    "        agent.set_epsilon(eps_start * (eps_decay**e) )\n",
    "\n",
    "        while not game_over:\n",
    "            # The agent performs an action\n",
    "            action = agent.act(state)\n",
    "\n",
    "            # Apply an action to the environment, get the next state, the reward\n",
    "            # and if the games end\n",
    "            prev_state = state\n",
    "            state, reward, game_over = env.act(action , train = True)\n",
    "\n",
    "            # Update the counters\n",
    "            if reward > 0:\n",
    "                win = win + reward\n",
    "            if reward < 0:\n",
    "                lose = lose -reward\n",
    "\n",
    "            # Apply the reinforcement strategy\n",
    "            loss = agent.reinforce(prev_state, state,  action, reward, game_over)\n",
    "\n",
    "        # Save as a mp4\n",
    "        if e % 10 == 0:\n",
    "            env.draw(prefix+str(e))\n",
    "\n",
    "        # Update stats\n",
    "        score += win-lose\n",
    "\n",
    "        print(\"Epoch {:03d}/{:03d} | Loss {:.4f} | Win/lose count {}/{} ({})\"\n",
    "              .format(e, epoch, loss, win, lose, win-lose))\n",
    "        agent.save(name_weights=prefix+'model.h5',name_model=prefix+'model.json')\n",
    "        \n",
    "        \n",
    "\n",
    "        \n",
    "class EnvironmentExploring(Environment):\n",
    "    def __init__(self, grid_size=10, max_time=500, temperature=0.1):\n",
    "        super(EnvironmentExploring, self).__init__(grid_size, max_time, temperature)\n",
    "    \n",
    "    def act(self, action , train = True):\n",
    "        \"\"\"This function returns the new state, reward and decides if the\n",
    "        game ends.\"\"\"\n",
    "\n",
    "        self.get_frame(int(self.t))\n",
    "\n",
    "        self.position = np.zeros((self.grid_size, self.grid_size))\n",
    "\n",
    "        self.position[0:2,:]= -1\n",
    "        self.position[:,0:2] = -1\n",
    "        self.position[-2:, :] = -1\n",
    "        self.position[-2:, :] = -1\n",
    "\n",
    "        self.position[self.x, self.y] = 1\n",
    "        if action == 0:\n",
    "            if self.x == self.grid_size-3:\n",
    "                self.x = self.x-1\n",
    "            else:\n",
    "                self.x = self.x + 1\n",
    "        elif action == 1:\n",
    "            if self.x == 2:\n",
    "                self.x = self.x+1\n",
    "            else:\n",
    "                self.x = self.x-1\n",
    "        elif action == 2:\n",
    "            if self.y == self.grid_size - 3:\n",
    "                self.y = self.y - 1\n",
    "            else:\n",
    "                self.y = self.y + 1\n",
    "        elif action == 3:\n",
    "            if self.y == 2:\n",
    "                self.y = self.y + 1\n",
    "            else:\n",
    "                self.y = self.y - 1\n",
    "        else:\n",
    "            RuntimeError('Error: action not recognized')\n",
    "\n",
    "        self.t = self.t + 1\n",
    "        reward = self.board[self.x, self.y]\n",
    "        \n",
    "        # Exploration\n",
    "        if train:\n",
    "            reward = reward - self.malus_position[self.x, self.y]\n",
    "        self.malus_position[self.x, self.y] = 0.1\n",
    "        \n",
    "        \n",
    "        \n",
    "        self.board[self.x, self.y] = 0\n",
    "        game_over = self.t > self.max_time\n",
    "        \n",
    "        state = np.concatenate((self.malus_position.reshape(self.grid_size, self.grid_size,1),\n",
    "                                self.board.reshape(self.grid_size, self.grid_size,1),\n",
    "                        self.position.reshape(self.grid_size, self.grid_size,1)),axis=2)\n",
    "        \n",
    "        state = state[self.x-2:self.x+3,self.y-2:self.y+3,:]\n",
    "\n",
    "        return state, reward, game_over\n",
    "\n",
    "    def reset(self):\n",
    "        \"\"\"This function resets the game and returns the initial state\"\"\"\n",
    "\n",
    "        self.x = np.random.randint(3, self.grid_size-3, size=1)[0]\n",
    "        self.y = np.random.randint(3, self.grid_size-3, size=1)[0]\n",
    "\n",
    "\n",
    "        bonus = 0.5*np.random.binomial(1,self.temperature,size=self.grid_size**2)\n",
    "        bonus = bonus.reshape(self.grid_size,self.grid_size)\n",
    "\n",
    "        malus = -1.0*np.random.binomial(1,self.temperature,size=self.grid_size**2)\n",
    "        malus = malus.reshape(self.grid_size, self.grid_size)\n",
    "\n",
    "        self.to_draw = np.zeros((self.max_time+2, self.grid_size*self.scale, self.grid_size*self.scale, 3))\n",
    "\n",
    "\n",
    "        malus[bonus>0]=0\n",
    "\n",
    "        self.board = bonus + malus\n",
    "\n",
    "        self.position = np.zeros((self.grid_size, self.grid_size))\n",
    "        self.malus_position = np.zeros((self.grid_size,self.grid_size))\n",
    "        \n",
    "        self.position[0:2,:]= -1\n",
    "        self.position[:,0:2] = -1\n",
    "        self.position[-2:, :] = -1\n",
    "        self.position[-2:, :] = -1\n",
    "        \n",
    "        self.board[self.x,self.y] = 0\n",
    "        self.malus_position[self.x, self.y] = 0.1\n",
    "        \n",
    "        self.t = 0\n",
    "\n",
    "        state = np.concatenate((self.malus_position.reshape(self.grid_size, self.grid_size,1),\n",
    "                                self.board.reshape(self.grid_size, self.grid_size,1),\n",
    "                        self.position.reshape(self.grid_size, self.grid_size,1)),axis=2)\n",
    "\n",
    "        state = state[self.x - 2:self.x + 3, self.y - 2:self.y + 3, :]\n",
    "        return state\n",
    "    \n",
    "    \n",
    "\n",
    "##########################################    \n",
    "\n",
    "# ## use those samples of code:\n",
    "# #In train explore:\n",
    "# state, reward, game_over = env.act(action, train=True)\n",
    "\n",
    "# ## In Environment exploring:\n",
    "# # You will have to change n_state to 3 because you will use one more layer!\n",
    "# reward = 0\n",
    "# if train:\n",
    "#     reward = -self.malus_position[self.x, self.y]\n",
    "# self.malus_position[self.x, self.y] = 0.1\n",
    "\n",
    "# reward = reward + self.board[self.x, self.y]\n",
    "# # 3 \"feature\" states instead of 2\n",
    "# state = np.concatenate((self.malus_position.reshape(self.grid_size, self.grid_size,1),\n",
    "#                                 self.board.reshape(self.grid_size, self.grid_size,1),\n",
    "#                         self.position.reshape(self.grid_size, self.grid_size,1)),axis=2)"
   ]
  },
  {
   "cell_type": "code",
   "execution_count": 19,
   "metadata": {},
   "outputs": [
    {
     "name": "stdout",
     "output_type": "stream",
     "text": [
      "Epoch 000/051 | Loss 0.0119 | Win/lose count 10.5/30.500000000000107 (-20.000000000000107)\n",
      "Epoch 001/051 | Loss 0.0106 | Win/lose count 9.0/19.700000000000006 (-10.700000000000006)\n",
      "Epoch 002/051 | Loss 0.0029 | Win/lose count 12.0/24.900000000000077 (-12.900000000000077)\n",
      "Epoch 003/051 | Loss 0.0034 | Win/lose count 14.5/22.099999999999998 (-7.599999999999998)\n",
      "Epoch 004/051 | Loss 0.0042 | Win/lose count 14.0/22.800000000000043 (-8.800000000000043)\n",
      "Epoch 005/051 | Loss 0.0289 | Win/lose count 17.5/20.600000000000026 (-3.1000000000000263)\n",
      "Epoch 006/051 | Loss 0.0104 | Win/lose count 10.0/19.39999999999999 (-9.399999999999991)\n",
      "Epoch 007/051 | Loss 0.0071 | Win/lose count 14.5/21.100000000000037 (-6.600000000000037)\n",
      "Epoch 008/051 | Loss 0.0237 | Win/lose count 18.5/22.100000000000023 (-3.6000000000000227)\n",
      "Epoch 009/051 | Loss 0.0020 | Win/lose count 16.5/19.299999999999986 (-2.7999999999999865)\n",
      "Epoch 010/051 | Loss 0.0060 | Win/lose count 22.5/17.79999999999999 (4.70000000000001)\n",
      "Epoch 011/051 | Loss 0.0161 | Win/lose count 24.0/19.40000000000001 (4.599999999999991)\n",
      "Epoch 012/051 | Loss 0.0058 | Win/lose count 17.5/17.599999999999994 (-0.09999999999999432)\n",
      "Epoch 013/051 | Loss 0.0017 | Win/lose count 17.5/15.599999999999968 (1.9000000000000323)\n",
      "Epoch 014/051 | Loss 0.0043 | Win/lose count 17.5/17.399999999999988 (0.10000000000001208)\n",
      "Epoch 015/051 | Loss 0.0057 | Win/lose count 19.5/12.099999999999977 (7.4000000000000234)\n",
      "Epoch 016/051 | Loss 0.0085 | Win/lose count 22.5/13.099999999999968 (9.400000000000032)\n",
      "Epoch 017/051 | Loss 0.0102 | Win/lose count 16.0/17.499999999999996 (-1.4999999999999964)\n",
      "Epoch 018/051 | Loss 0.0044 | Win/lose count 14.0/15.899999999999963 (-1.899999999999963)\n",
      "Epoch 019/051 | Loss 0.0066 | Win/lose count 19.0/14.39999999999997 (4.60000000000003)\n",
      "Epoch 020/051 | Loss 0.0173 | Win/lose count 19.5/13.599999999999977 (5.9000000000000234)\n",
      "Epoch 021/051 | Loss 0.0077 | Win/lose count 16.0/13.89999999999997 (2.10000000000003)\n",
      "Epoch 022/051 | Loss 0.0036 | Win/lose count 20.5/17.29999999999999 (3.20000000000001)\n",
      "Epoch 023/051 | Loss 0.0221 | Win/lose count 25.0/14.599999999999973 (10.400000000000027)\n",
      "Epoch 024/051 | Loss 0.0082 | Win/lose count 17.0/12.69999999999997 (4.300000000000029)\n",
      "Epoch 025/051 | Loss 0.0179 | Win/lose count 12.5/16.099999999999962 (-3.5999999999999623)\n",
      "Epoch 026/051 | Loss 0.0132 | Win/lose count 18.0/13.99999999999997 (4.00000000000003)\n",
      "Epoch 027/051 | Loss 0.0037 | Win/lose count 19.5/13.299999999999972 (6.200000000000028)\n",
      "Epoch 028/051 | Loss 0.0035 | Win/lose count 1.5/21.400000000000038 (-19.900000000000038)\n",
      "Epoch 029/051 | Loss 0.0034 | Win/lose count 18.0/13.199999999999969 (4.800000000000031)\n",
      "Epoch 030/051 | Loss 0.0126 | Win/lose count 22.5/11.099999999999977 (11.400000000000023)\n",
      "Epoch 031/051 | Loss 0.0042 | Win/lose count 13.5/14.999999999999963 (-1.4999999999999627)\n",
      "Epoch 032/051 | Loss 0.0060 | Win/lose count 26.5/10.599999999999985 (15.900000000000015)\n",
      "Epoch 033/051 | Loss 0.0060 | Win/lose count 25.0/11.699999999999978 (13.300000000000022)\n",
      "Epoch 034/051 | Loss 0.0088 | Win/lose count 15.5/12.399999999999972 (3.100000000000028)\n",
      "Epoch 035/051 | Loss 0.0045 | Win/lose count 23.5/14.499999999999973 (9.000000000000027)\n",
      "Epoch 036/051 | Loss 0.0174 | Win/lose count 20.0/12.299999999999976 (7.700000000000024)\n",
      "Epoch 037/051 | Loss 0.0095 | Win/lose count 18.0/13.399999999999974 (4.600000000000026)\n",
      "Epoch 038/051 | Loss 0.0076 | Win/lose count 25.0/12.799999999999972 (12.200000000000028)\n",
      "Epoch 039/051 | Loss 0.0045 | Win/lose count 28.0/12.399999999999975 (15.600000000000025)\n",
      "Epoch 040/051 | Loss 0.0036 | Win/lose count 21.5/9.89999999999998 (11.60000000000002)\n",
      "Epoch 041/051 | Loss 0.0085 | Win/lose count 16.5/14.499999999999975 (2.000000000000025)\n",
      "Epoch 042/051 | Loss 0.0108 | Win/lose count 23.0/13.799999999999967 (9.200000000000033)\n",
      "Epoch 043/051 | Loss 0.0056 | Win/lose count 22.5/9.799999999999981 (12.700000000000019)\n",
      "Epoch 044/051 | Loss 0.0149 | Win/lose count 18.5/11.699999999999974 (6.800000000000026)\n",
      "Epoch 045/051 | Loss 0.0091 | Win/lose count 23.0/9.099999999999984 (13.900000000000016)\n",
      "Epoch 046/051 | Loss 0.0077 | Win/lose count 10.5/16.299999999999965 (-5.799999999999965)\n",
      "Epoch 047/051 | Loss 0.0086 | Win/lose count 14.5/14.599999999999964 (-0.09999999999996412)\n",
      "Epoch 048/051 | Loss 0.0104 | Win/lose count 18.0/11.899999999999974 (6.100000000000026)\n",
      "Epoch 049/051 | Loss 0.0129 | Win/lose count 18.0/13.599999999999971 (4.400000000000029)\n",
      "Epoch 050/051 | Loss 0.0276 | Win/lose count 25.5/10.399999999999979 (15.100000000000021)\n"
     ]
    },
    {
     "data": {
      "text/html": [
       "<video alt=\"test\" controls>\n",
       "                <source src=\"data:video/mp4;base64,AAAAIGZ0eXBpc29tAAACAGlzb21pc28yYXZjMW1wNDEAAAAIZnJlZQAAGfltZGF0AAACrQYF//+p3EXpvebZSLeWLNgg2SPu73gyNjQgLSBjb3JlIDE1NyByMjkzNSA1NDVkZTJmIC0gSC4yNjQvTVBFRy00IEFWQyBjb2RlYyAtIENvcHlsZWZ0IDIwMDMtMjAxOCAtIGh0dHA6Ly93d3cudmlkZW9sYW4ub3JnL3gyNjQuaHRtbCAtIG9wdGlvbnM6IGNhYmFjPTEgcmVmPTMgZGVibG9jaz0xOjA6MCBhbmFseXNlPTB4MToweDExMSBtZT1oZXggc3VibWU9NyBwc3k9MSBwc3lfcmQ9MS4wMDowLjAwIG1peGVkX3JlZj0xIG1lX3JhbmdlPTE2IGNocm9tYV9tZT0xIHRyZWxsaXM9MSA4eDhkY3Q9MCBjcW09MCBkZWFkem9uZT0yMSwxMSBmYXN0X3Bza2lwPTEgY2hyb21hX3FwX29mZnNldD00IHRocmVhZHM9NiBsb29rYWhlYWRfdGhyZWFkcz0xIHNsaWNlZF90aHJlYWRzPTAgbnI9MCBkZWNpbWF0ZT0xIGludGVybGFjZWQ9MCBibHVyYXlfY29tcGF0PTAgY29uc3RyYWluZWRfaW50cmE9MCBiZnJhbWVzPTMgYl9weXJhbWlkPTIgYl9hZGFwdD0xIGJfYmlhcz0wIGRpcmVjdD0xIHdlaWdodGI9MSBvcGVuX2dvcD0wIHdlaWdodHA9MiBrZXlpbnQ9MjUwIGtleWludF9taW49MjUgc2NlbmVjdXQ9NDAgaW50cmFfcmVmcmVzaD0wIHJjX2xvb2thaGVhZD00MCByYz1jcmYgbWJ0cmVlPTEgY3JmPTIzLjAgcWNvbXA9MC42MCBxcG1pbj0wIHFwbWF4PTY5IHFwc3RlcD00IGlwX3JhdGlvPTEuNDAgYXE9MToxLjAwAIAAAAMSZYiEADP//vaG+BTYUyP+T7/8I/+5H7cfWfrixkIJvrVeQ9GAMl8a/5lGYaXpyc8t7R+vTNAEZz8ZS8pY/so8yxXhlWbQ+BTV0nV+BSUJ4ieeJ5SmSomT/5DdC83OqqrkyEW2UdIOh57K3r2CJae2vES9fnWV0Yt5V3qF2CfxihJpzeJXvhX0YziRWoFfTJxBrag/zy04gE/9g1m01DxEVF9ZCXpzodhgu9PygvI0SvaqO8bHa8lnoVEbnncGjAf7W8WcboOGQYMcliGukXU+QNCtkysYVr0nbtz/+V3pQ45PaXvofeudu6cUew78r1grJBorUjU9qTb+DajPPj04ckxGvXQV6Fna2mCXm4nuHxqWef0u2VdcPqMk4WAjsFw95eRMElh2hMizvRzBosvZHCMgqc4teRAFwrwGfI5ZpsFOGaYIxwxEVfRxa3VYxgY14qYdXMv7G1n3BK8v0WzHnwFMAHL3DpMz0RMXKuSz8hnNzIApFo8kmEuChKu7gzzQxnMeILDsmWSRQFTmtsqzOcARTgnBCTCUCvwt1rvlxTZALDAWxEoGsXuUrFV7As2i//kfvgFoXh2omay6q3LL29XSEIQJXvblLksMNjxFG2o6OlrNnz1DDFY56J+H4dKm+xCTG65TMvIMnGVuA+XT1hwAbGTQuX0q5KLabSO/44LstbdtD9EA/S4BW8FmUE1oqcnEl/viRTlrM5kuiZlyx5wbarCK/rZii9EMawrz8B6do4JMQRE96y0bOL+5vA5Os0rAKu4lCRz0pYB5iLkFDqkQEDOh4TYCss5GOkQ8Ja80LxqXj7JzD3y+qEkw1Gz8C8o+6WjLiSJS4qmhX3KEQVRQuZtSUQcstmmpi9XgSQYLohTpYQ9Rfl4McOESRF9ozoJ0L3Vxa0Lu7TiIwAjt3GZyBKsM1WKCPY9OTQaQhKCq8zw2meZAu7tyQgPQW1pgWzBUfgK93KbxYVwUW2dLxs6+g+b/+zznu/XpX+HeenjuykQnBduSPU2f6ow4LpEZZPcZJP7CiqF0Ds51QtO4AA2JAAAAFEGaIWxDf/6nhAAHliJ/qt8x+OzAAAAAG0GaQzwhkymEM//+nhAALr7psZcutjhuQB4PaQAAABABnmJqQr8ACavNEyJpWhpAAAAAGEGaZEnhDyZTAhn//p4QAEVOEc/hzm+urwAAABlBmoVJ4Q8mUwIb//6nhAAbmkT/Vb5j8TuhAAAAH0Gap0nhDyZTBRE8N//+p4QALDitUx/qt8x7r462aYEAAAAPAZ7GakK/ACO7PLcNm1QTAAAAHkGayUnhDyZTBTwz//6eEAENEOVbgvO19j4Mf7b+YAAAABABnuhqQr8AOKzB5MD17jaAAAAAGEGa6knhDyZTAhv//qeEAGvpE/1KQCqJwQAAACFBmwxJ4Q8mUwURPDP//p4QA+Hsjq8yyz59uC5H4z6dPrYAAAAQAZ8rakK/ANK7Ucr+3D6JwAAAABtBmy1J4Q8mUwIb//6nhAEEHzHkZRAnf9GspIEAAAAYQZtOSeEPJlMCG//+p4QBBFB1eXIc4MqBAAAAH0GbcEnhDyZTBRE8N//+p4QArPup+60szU2595tYELkAAAAQAZ+PakK/AIrLIYfQEg4uOAAAAB1Bm5RJ4Q8mUwIZ//6eEAHG9ffpte6x35JO2ClY8AAAABVBn7JFETwv/wBFZ61OW6Zxh7i+gfEAAAAQAZ/RdEK/AF+eTeVsoek1QAAAABABn9NqQr8APMC851oYXlfAAAAAGUGb1UmoQWiZTAhn//6eEAC+r7jQum+63p0AAAAaQZv2SeEKUmUwIb/+p4QAMi6tIISjf/ut58AAAAAaQZoXSeEOiZTAhv/+p4QAM26tIISiDt/o16kAAAAYQZo6SeEPJlMCG//+p4QANK6tHNf4rlhJAAAAD0GeWEURPCv/ACstbhsgQAAAABABnnlqQr8AKzSjfAeB+XP5AAAAHEGafUmoQWiZTAhn//6eEAE94Mc/pHX37RltW04AAAASQZ6bRREsK/8AQXaIXYb6XnRZAAAADwGevGpCvwBBdohOCBx7oQAAABlBmr5JqEFsmUwIZ//+nhAB5SnHP4c5vrNBAAAAGUGa30nhClJlMCG//qeEAH7B4U6zp91t3oAAAAAXQZrgSeEOiZTAhv/+p4QAgo+Y5XDbbXkAAAAhQZsDSeEPJlMCG//+p4QBNfhz5lliZHcl7nesE2N29sv8AAAAFEGfIUURPCv/APgz5m9DpxMUVizBAAAAEAGfQmpCvwD4M+Y3Q5IOJ8wAAAAcQZtHSahBaJlMCG///qeEATX46e7y6f2C4CBTMQAAABBBn2VFESwv/wC6MbU+VhsxAAAAEAGfhHRCvwD38MBkh5N2kYEAAAAPAZ+GakK/APJzhsDlNoOBAAAAHEGbiEmoQWyZTAhv//6nhAEl+l0CE9ezPgiudMAAAAAfQZuqSeEKUmUwUVLDf/6nhAHrvwo1m2peOnwhnLwtmAAAABABn8lqQr8BY7IhNxn16ak5AAAAG0GbzUnhDomUwIb//qeEAfHon8mD4QBkKaoyoAAAABJBn+tFFTwr/wFja+c6yfJsu4AAAAAOAZ4MakK/AWPlC73qPm8AAAAaQZoOSahBaJlMCG///qeEARX46fUcaEhwYEEAAAAbQZoxSeEKUmUwIZ/+nhAC1+6b2//NObuUAvyBAAAAEUGeT0U0TCv/AJbmjeaFg+3jAAAADgGecGpCvwCWyjGTckvGAAAAGkGackmoQWiZTAhv//6nhACxfGnQVrMprPSBAAAAGEGak0nhClJlMCG//qeEAKz7qcf4fVttIwAAABhBmrZJ4Q6JlMCG//6nhACoe6nH+H1bbSsAAAAPQZ7URRE8K/8Ahsm4a3dBAAAADQGe9WpCvwCHBpFvW7oAAAAaQZr3SahBaJlMCG///qeEAPccZ/qt8x+INSEAAAAcQZsbSeEKUmUwIb/+p4QBoe6nH+JrjVCHpeQz/QAAABVBnzlFNEwv/wFv3bpnFYre9h1Q58AAAAAQAZ9YdEK/AexEPYHTG7kRgQAAAA8Bn1pqQr8B67X4o0h4ohYAAAAbQZtcSahBaJlMCG///qeEAZHyOHz+l8UJDCi5AAAAG0Gbf0nhClJlMCG//qeEAPL7B69mfAzqXvhFwQAAABJBn51FNEwr/wDIkeiAUwDkA8AAAAAOAZ++akK/AMjYlXU6bUkAAAAZQZuiSahBaJlMCGf//p4QA7CsmhHUfmpDFwAAABFBn8BFESwr/wDIurYJCVvtcQAAAA4Bn+FqQr8AyLr4rgSVxQAAABpBm+NJqEFsmUwIb//+p4QA8vsH+E4LdCRdwAAAABlBmgRJ4QpSZTAhv/6nhACffHT6jjQkOFTBAAAAJ0GaJ0nhDomUwIb//qeEAGd9g/0NwveBTYHSvwKZbOT4FCk81+4HHwAAABJBnkVFETwr/wBUG5QqWiX+2gsAAAAQAZ5makK/ADisweS5nyUigQAAABxBmmlJqEFomUwU8M/+nhABDviH+KJec6bFQH8wAAAAEAGeiGpCvwA4oLznWhheXcAAAAAZQZqKSeEKUmUwIb/+p4QALH7qfqONCQ5LwQAAABhBmqtJ4Q6JlMCG//6nhAAcb2D17M+CLK8AAAAbQZrOSeEPJlMCG//+p4QAK17qftV5bPgtrZtgAAAAEkGe7EURPCv/ACK9Ou7v6RYNgQAAAA4Bnw1qQr8AIrK67jwQbQAAABxBmxFJqEFomUwIb//+p4QAGx99nu2XUcaEjmwRAAAAEkGfL0URLCv/ABYmvnOsnyd7gAAAAA4Bn1BqQr8AFi5Qu96mLgAAABpBm1JJqEFsmUwIb//+p4QAEW+On1HGhIdgQQAAABtBm3VJ4QpSZTAhn/6eEAAsfum9wA5XlZsWC4AAAAASQZ+TRTRMK/8ACSyfOdZPlD6AAAAAEAGftGpCvwAI7LIYfQEg7+kAAAAdQZu3SahBaJlMFPDP/p4QAB0fX36bXp9cjdmxZUgAAAAQAZ/WakK/AAYhm5rjxVt/YQAAABhBm9hJ4QpSZTAhn/6eEAATUQ4/ngv5Jm0AAAAYQZv5SeEOiZTAhn/+nhAAE9r3GhdN92DUAAAAGEGaGknhDyZTAhn//p4QABRq9xoXTfdgrQAAABpBmjtJ4Q8mUwIb//6nhAAFYxWkEJRB2/0csQAAABhBmlxJ4Q8mUwIb//6nhAAFhxWjmv8VzGsAAAAYQZp+SeEPJlMFETw3//6nhAADje+z7edBAAAADwGenWpCvwAEeDWBdf5VwAAAABhBmp9J4Q8mUwIb//6nhAAFqxWkEIn+XHMAAAARQZqjSeEPJlMCG//+p4QAAScAAAASQZ7BRRE8L/8ABR88WK7itVy4AAAAEAGe4HRCvwAHFsVi2NlSrNEAAAAQAZ7iakK/AAbomSab6SDz8AAAABtBmuZJqEFomUwIZ//+nhAAFj94A+f0VKzX5OEAAAAPQZ8ERREsK/8ABJZXAqNBAAAADQGfJWpCvwAEmDWHjRsAAAAbQZsnSahBbJlMCGf//p4QAA53rjb3wAbn89JZAAAAHEGbSEnhClJlMCG//qeEAAPKDwovghm3gyh0/AgAAAAZQZtpSeEOiZTAhv/+p4QABfaRP9VvmPyFwAAAABlBm4xJ4Q8mUwIb//6nhAAGHdWkEIn+XFuBAAAAD0GfqkURPCv/AAT5rcO/wAAAABABn8tqQr8ABPqUb4DwPzvIAAAAJkGb0EmoQWiZTAhn//6eEAAloiSm2HUb7+ogiAy/tD9uF923aA5hAAAAFkGf7kURLC//AAXSVjpcaMO6qSwtP0EAAAAQAZ4NdEK/AAfGKtV4EV5UgQAAABABng9qQr8AB8QgE68AUG+AAAAAGkGaEUmoQWyZTAhv//6nhAAGRpE/1XAY/IHAAAAAHUGaM0nhClJlMFFSw3/+p4QACWrNIW3a8jv/9D/hAAAAEAGeUmpCvwAHw5w17zStF8AAAAAZQZpUSeEOiZTAhv/+p4QADnnGf6rfMfi44AAAAB9BmnZJ4Q8mUwUVPDv//qmWAAt/vqyqzlBmgSdL4LtBAAAAEAGelWpCvwASV5omRNKzz0AAAAAfQZqaSeEPJlMCG//+p4QAIN8dPu1rS2z1rt4muQlNuQAAABVBnrhFETwv/wAT6Vj9caup3NIBe+EAAAAQAZ7XdEK/ABsJNCJ8WYpC6AAAABABntlqQr8AGwJbTrwBQC6BAAAAHkGa3EmoQWiZTBTw3/6nhAAN37B/nkFapkJBqXOOeAAAABABnvtqQr8AC1tyGH0BIO0pAAAAGUGa/UnhClJlMCHf/qmWAATAo51oer75ScEAAAARQZsBSeEOiZTAhv/+p4QAAScAAAAMQZ8/RRE8L/8AALKAAAAADwGfXnRCvwAHxbA0POeYgQAAABABn0BqQr8AC/JWxersOYrAAAAAHEGbQ0moQWiZTBTw3/6nhAAOIDxNcaol+if5GskAAAAQAZ9iakK/AAvwLGveaVoGwAAAABFBm2dJ4QpSZTAhv/6nhAABJwAAABNBn4VFNEwv/wAIb6CCbm/XIaZlAAAAEAGfpHRCvwALomtGSW/2H0EAAAAQAZ+makK/AAuljy3DZtWVgQAAABpBm6hJqEFomUwIb//+p4QAFh9E/1W+Y/FLwAAAABlBm8lJ4QpSZTAhv/6nhAAhqALNts+z5tTAAAAAHUGb60nhDomUwU0TDv/+qZYAGegs5QZoFPox+mUDAAAAEAGeCmpCvwArKjRMiaVnIEAAAAASQZoPSeEPJlMCHf/+qZYAAJWAAAAAE0GeLUURPC//AC6Js/M24nTH0rsAAAAQAZ5MdEK/AD4xmRHYsxR0+QAAABABnk5qQr8APiETNN9JBx+ZAAAAHEGaU0moQWiZTAhv//6nhAAzvvs+5kYWzFCOYWwAAAAQQZ5xRREsL/8AHmTp3+b6WAAAAA8BnpB0Qr8AKzaO884t6YEAAAAQAZ6SakK/ACoNfOdaGF56QAAAABxBmpdJqEFsmUwIb//+p4QAH99g/zyCtUyEi3/cAAAAFUGetUUVLC//ABNaA5w0YDn0WV2pWQAAABABntR0Qr8AGmAADJLf68LAAAAADwGe1mpCvwARXYjyXM+TQwAAABpBmthJqEFsmUwIb//+p4QAIKgCzbbPs+bWwQAAAB1BmvpJ4QpSZTBRUsN//qeEADSurVMf6t2+wfrkfAAAABABnxlqQr8AKzYR5MD17m6BAAAAJEGbHEnhDomUwUTDf/6nhAB8txmvxCAH/8JUsef/+av9FXTiGAAAABABnztqQr8AZx2o5X9uH2vBAAAAJEGbPknhDyZTBTw3//6nhAEt5vsviEAP/4SpY8//81f6Kum4WQAAABABn11qQr8A8rPAuv7cPn5gAAAAGkGbQUnhDyZTAhv//qeEAS35HD54/w+rbZTQAAAAEUGff0URPCv/APgrg1xlg+0jAAAADgGfgGpCvwD4AzGTckpGAAAAHEGbg0moQWiZTBTw3/6nhAJCTks2fB/lW+lp9eUAAAAQAZ+iakK/AX91TyYHr2zZgAAAABpBm6dJ4QpSZTAhn/6eECemcviC6v72o8Xp8wAAABBBn8VFNEwv/wHqnQf815qRAAAADwGf5HRCvwGJeTeecWjPgQAAAA8Bn+ZqQr8CkWdH4bNo8gcAAAAbQZvpSahBaJlMFPDP/p4QKTtR9cIXI3ZsFSLaAAAAEAGeCGpCvwKvNG80utZNakAAAAAYQZoKSeEKUmUwIZ/+nhAJp3TfNYY+rfOPAAAAGEGaK0nhDomUwIZ//p4QBNfiH9shj6whZQAAABhBmkxJ4Q8mUwIZ//6eEAMj6+/kSI+sIh4AAAAdQZpuSeEPJlMFETwz//6eEAH99ff02ULl1s1bG9EAAAAQAZ6NakK/AGwJb+A+v4DXEQAAABhBmo9J4Q8mUwIZ//6eEAFI902MuTZVuW0AAAAYQZqwSeEPJlMCGf/+nhABP/dNjLk2VbmUAAAAGEGa0UnhDyZTAhv//qeEAE/91OP8Pq23OwAAAB1BmvNJ4Q8mUwURPDf//qeEAE2+jn4/mWaprcx6BQAAABABnxJqQr8APiC851oYXlXAAAAAHEGbFUnhDyZTBTwz//6eEAC/+vv6hb3NcfWmFaAAAAAQAZ80akK/ACfNyGH0BIOUqQAAABlBmzZJ4Q8mUwIb//6nhAAf32D/CcFuhNlAAAAAF0GbWUnhDyZTAhn//p4QAHwQjxzm+ttxAAAAEkGfd0URPCv/ABpnagQkY/dGQQAAAA4Bn5hqQr8AGmdqun6oMgAAABlBm5pJqEFomUwIZ//+nhAAw8hjn8Oc31qVAAAAGUGbu0nhClJlMCG//qeEAE1QBZttn2fNScAAAAAeQZvdSeEOiZTBTRMN//6nhAB3PYPXs1TWbbx5vC4/AAAAEAGf/GpCvwBiAWNe80rN1MEAAAAYQZv+SeEPJlMCG//+p4QAdH2D17M+CK8nAAAAGEGaAUnhDyZTAhn//p4QAbv19/IkR9YR6QAAABJBnj9FETwr/wBdGvnOsnybsoEAAAAOAZ5AakK/AF05Qu96kU4AAAAdQZpDSahBaJlMFPDP/p4QAR74h/F0dzHOdNiptFUAAAAQAZ5iakK/ADtgvOdaGF5ZwAAAABhBmmRJ4QpSZTAhn/6eEAC2e6b6KlZr4V8AAAAYQZqFSeEOiZTAhn/+nhAAdH19/IkR9YXTAAAAGEGapknhDyZTAhn//p4QAE1EOP54L+SK7QAAABhBmsdJ4Q8mUwIZ//6eEABPa9xoXTfdcpUAAAAbQZrpS+EIQ8kRggoB/IB/YeAURPCv/jhAABFwAAAAJQGfCGpCvwKvY+1BxN2qw0km5aqGByy1u80qI/sgOGAAKZuaj+AAAAs4bW9vdgAAAGxtdmhkAAAAAAAAAAAAAAAAAAAD6AAAH5AAAQAAAQAAAAAAAAAAAAAAAAEAAAAAAAAAAAAAAAAAAAABAAAAAAAAAAAAAAAAAABAAAAAAAAAAAAAAAAAAAAAAAAAAAAAAAAAAAAAAAAAAgAACmJ0cmFrAAAAXHRraGQAAAADAAAAAAAAAAAAAAABAAAAAAAAH5AAAAAAAAAAAAAAAAAAAAAAAAEAAAAAAAAAAAAAAAAAAAABAAAAAAAAAAAAAAAAAABAAAAAARAAAAEQAAAAAAAkZWR0cwAAABxlbHN0AAAAAAAAAAEAAB+QAAAEAAABAAAAAAnabWRpYQAAACBtZGhkAAAAAAAAAAAAAAAAAAAyAAABlABVxAAAAAAALWhkbHIAAAAAAAAAAHZpZGUAAAAAAAAAAAAAAABWaWRlb0hhbmRsZXIAAAAJhW1pbmYAAAAUdm1oZAAAAAEAAAAAAAAAAAAAACRkaW5mAAAAHGRyZWYAAAAAAAAAAQAAAAx1cmwgAAAAAQAACUVzdGJsAAAAlXN0c2QAAAAAAAAAAQAAAIVhdmMxAAAAAAAAAAEAAAAAAAAAAAAAAAAAAAAAARABEABIAAAASAAAAAAAAAABAAAAAAAAAAAAAAAAAAAAAAAAAAAAAAAAAAAAAAAAAAAAGP//AAAAL2F2Y0MB9AAN/+EAF2f0AA2RmygiEdCAAAADAIAAABkHihTLAQAFaOvjxEgAAAAYc3R0cwAAAAAAAAABAAAAygAAAgAAAAAUc3RzcwAAAAAAAAABAAAAAQAABRBjdHRzAAAAAAAAAKAAAAACAAAEAAAAAAEAAAYAAAAAAQAAAgAAAAACAAAEAAAAAAEAAAYAAAAAAQAAAgAAAAABAAAGAAAAAAEAAAIAAAAAAQAABAAAAAABAAAGAAAAAAEAAAIAAAAAAgAABAAAAAABAAAGAAAAAAEAAAIAAAAAAQAACgAAAAABAAAEAAAAAAEAAAAAAAAAAQAAAgAAAAADAAAEAAAAAAEAAAgAAAAAAgAAAgAAAAABAAAIAAAAAAIAAAIAAAAAAwAABAAAAAABAAAIAAAAAAIAAAIAAAAAAQAACgAAAAABAAAEAAAAAAEAAAAAAAAAAQAAAgAAAAABAAAEAAAAAAEAAAYAAAAAAQAAAgAAAAABAAAIAAAAAAIAAAIAAAAAAQAABAAAAAABAAAIAAAAAAIAAAIAAAAAAgAABAAAAAABAAAIAAAAAAIAAAIAAAAAAQAABAAAAAABAAAKAAAAAAEAAAQAAAAAAQAAAAAAAAABAAACAAAAAAEAAAQAAAAAAQAACAAAAAACAAACAAAAAAEAAAgAAAAAAgAAAgAAAAACAAAEAAAAAAEAAAgAAAAAAgAAAgAAAAABAAAGAAAAAAEAAAIAAAAAAgAABAAAAAABAAAIAAAAAAIAAAIAAAAAAQAACAAAAAACAAACAAAAAAEAAAQAAAAAAQAACAAAAAACAAACAAAAAAEAAAYAAAAAAQAAAgAAAAAFAAAEAAAAAAEAAAYAAAAAAQAAAgAAAAABAAAEAAAAAAEAAAoAAAAAAQAABAAAAAABAAAAAAAAAAEAAAIAAAAAAQAACAAAAAACAAACAAAAAAMAAAQAAAAAAQAACAAAAAACAAACAAAAAAEAAAoAAAAAAQAABAAAAAABAAAAAAAAAAEAAAIAAAAAAQAABAAAAAABAAAGAAAAAAEAAAIAAAAAAQAABAAAAAABAAAGAAAAAAEAAAIAAAAAAQAACgAAAAABAAAEAAAAAAEAAAAAAAAAAQAAAgAAAAABAAAGAAAAAAEAAAIAAAAAAQAABAAAAAABAAAKAAAAAAEAAAQAAAAAAQAAAAAAAAABAAACAAAAAAEAAAYAAAAAAQAAAgAAAAABAAAKAAAAAAEAAAQAAAAAAQAAAAAAAAABAAACAAAAAAIAAAQAAAAAAQAABgAAAAABAAACAAAAAAEAAAoAAAAAAQAABAAAAAABAAAAAAAAAAEAAAIAAAAAAQAACgAAAAABAAAEAAAAAAEAAAAAAAAAAQAAAgAAAAABAAAKAAAAAAEAAAQAAAAAAQAAAAAAAAABAAACAAAAAAEAAAQAAAAAAQAABgAAAAABAAACAAAAAAEAAAYAAAAAAQAAAgAAAAABAAAGAAAAAAEAAAIAAAAAAQAACAAAAAACAAACAAAAAAEAAAYAAAAAAQAAAgAAAAABAAAKAAAAAAEAAAQAAAAAAQAAAAAAAAABAAACAAAAAAEAAAYAAAAAAQAAAgAAAAADAAAEAAAAAAEAAAYAAAAAAQAAAgAAAAADAAAEAAAAAAEAAAYAAAAAAQAAAgAAAAABAAAGAAAAAAEAAAIAAAAAAQAABAAAAAABAAAIAAAAAAIAAAIAAAAAAgAABAAAAAABAAAGAAAAAAEAAAIAAAAAAQAABAAAAAABAAAIAAAAAAIAAAIAAAAAAQAABgAAAAABAAACAAAAAAQAAAQAAAAAAQAABgAAAAABAAACAAAAABxzdHNjAAAAAAAAAAEAAAABAAAAygAAAAEAAAM8c3RzegAAAAAAAAAAAAAAygAABccAAAAYAAAAHwAAABQAAAAcAAAAHQAAACMAAAATAAAAIgAAABQAAAAcAAAAJQAAABQAAAAfAAAAHAAAACMAAAAUAAAAIQAAABkAAAAUAAAAFAAAAB0AAAAeAAAAHgAAABwAAAATAAAAFAAAACAAAAAWAAAAEwAAAB0AAAAdAAAAGwAAACUAAAAYAAAAFAAAACAAAAAUAAAAFAAAABMAAAAgAAAAIwAAABQAAAAfAAAAFgAAABIAAAAeAAAAHwAAABUAAAASAAAAHgAAABwAAAAcAAAAEwAAABEAAAAeAAAAIAAAABkAAAAUAAAAEwAAAB8AAAAfAAAAFgAAABIAAAAdAAAAFQAAABIAAAAeAAAAHQAAACsAAAAWAAAAFAAAACAAAAAUAAAAHQAAABwAAAAfAAAAFgAAABIAAAAgAAAAFgAAABIAAAAeAAAAHwAAABYAAAAUAAAAIQAAABQAAAAcAAAAHAAAABwAAAAeAAAAHAAAABwAAAATAAAAHAAAABUAAAAWAAAAFAAAABQAAAAfAAAAEwAAABEAAAAfAAAAIAAAAB0AAAAdAAAAEwAAABQAAAAqAAAAGgAAABQAAAAUAAAAHgAAACEAAAAUAAAAHQAAACMAAAAUAAAAIwAAABkAAAAUAAAAFAAAACIAAAAUAAAAHQAAABUAAAAQAAAAEwAAABQAAAAgAAAAFAAAABUAAAAXAAAAFAAAABQAAAAeAAAAHQAAACEAAAAUAAAAFgAAABcAAAAUAAAAFAAAACAAAAAUAAAAEwAAABQAAAAgAAAAGQAAABQAAAATAAAAHgAAACEAAAAUAAAAKAAAABQAAAAoAAAAFAAAAB4AAAAVAAAAEgAAACAAAAAUAAAAHgAAABQAAAATAAAAEwAAAB8AAAAUAAAAHAAAABwAAAAcAAAAIQAAABQAAAAcAAAAHAAAABwAAAAhAAAAFAAAACAAAAAUAAAAHQAAABsAAAAWAAAAEgAAAB0AAAAdAAAAIgAAABQAAAAcAAAAHAAAABYAAAASAAAAIQAAABQAAAAcAAAAHAAAABwAAAAcAAAAHwAAACkAAAAUc3RjbwAAAAAAAAABAAAAMAAAAGJ1ZHRhAAAAWm1ldGEAAAAAAAAAIWhkbHIAAAAAAAAAAG1kaXJhcHBsAAAAAAAAAAAAAAAALWlsc3QAAAAlqXRvbwAAAB1kYXRhAAAAAQAAAABMYXZmNTguMjYuMTAw\" type=\"video/mp4\" />\n",
       "             </video>"
      ],
      "text/plain": [
       "<IPython.core.display.HTML object>"
      ]
     },
     "execution_count": 19,
     "metadata": {},
     "output_type": "execute_result"
    }
   ],
   "source": [
    "# Training\n",
    "env = EnvironmentExploring(grid_size=size, max_time=T, temperature=0.3)\n",
    "agent = DQN_CNN(size, lr=.1, epsilon = 0.1, memory_size=2000, batch_size = 32,n_state=3)\n",
    "train_explore(agent, env, epochs_train, prefix='cnn_train_explore')\n",
    "HTML(display_videos('cnn_train_explore10.mp4'))"
   ]
  },
  {
   "cell_type": "code",
   "execution_count": 20,
   "metadata": {},
   "outputs": [
    {
     "name": "stdout",
     "output_type": "stream",
     "text": [
      "Win/lose count 7.5/17.999999999999986. Average score (-10.499999999999986)\n",
      "Win/lose count 12.0/15.199999999999962. Average score (-6.849999999999974)\n",
      "Win/lose count 12.5/14.599999999999964. Average score (-5.266666666666637)\n",
      "Win/lose count 14.5/15.59999999999996. Average score (-4.224999999999968)\n",
      "Win/lose count 16.5/12.499999999999972. Average score (-2.5799999999999685)\n",
      "Win/lose count 14.0/14.499999999999964. Average score (-2.233333333333301)\n",
      "Win/lose count 15.5/16.699999999999967. Average score (-2.0857142857142534)\n",
      "Win/lose count 18.0/12.599999999999971. Average score (-1.1499999999999682)\n",
      "Win/lose count 20.0/15.49999999999996. Average score (-0.5222222222221894)\n",
      "Win/lose count 9.0/16.19999999999996. Average score (-1.1899999999999664)\n",
      "Win/lose count 4.5/19.300000000000008. Average score (-2.4272727272726975)\n",
      "Final score: -2.4272727272726975\n"
     ]
    },
    {
     "data": {
      "text/html": [
       "<video alt=\"test\" controls>\n",
       "                <source src=\"data:video/mp4;base64,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\" type=\"video/mp4\" />\n",
       "             </video>"
      ],
      "text/plain": [
       "<IPython.core.display.HTML object>"
      ]
     },
     "execution_count": 20,
     "metadata": {},
     "output_type": "execute_result"
    }
   ],
   "source": [
    "# Evaluation\n",
    "test(agent,env,epochs_test,prefix='cnn_test_explore')\n",
    "HTML(display_videos('cnn_test_explore10.mp4'))"
   ]
  },
  {
   "cell_type": "markdown",
   "metadata": {},
   "source": [
    "***\n",
    "***\n",
    "__BONUS question__ Use the expert DQN from the previous question to generate some winning games. Train a model that mimicks its behavior. Compare the performances."
   ]
  },
  {
   "cell_type": "code",
   "execution_count": 21,
   "metadata": {},
   "outputs": [],
   "source": [
    "def train_other(agent1 , agent2 ,env,epoch,prefix=''):\n",
    "    # Number of won games\n",
    "    score = 0\n",
    "    loss = 0\n",
    "    eps_start , eps_decay = 0.8 , 0.9\n",
    "\n",
    "    for e in range(epoch):\n",
    "        # At each epoch, we restart to a fresh game and get the initial state\n",
    "        state = env.reset()\n",
    "        # This assumes that the games will terminate\n",
    "        game_over = False\n",
    "\n",
    "        win = 0\n",
    "        lose = 0\n",
    "\n",
    "        while not game_over:\n",
    "            # The agent performs an action\n",
    "            action = agent2.act(state)\n",
    "\n",
    "            # Apply an action to the environment, get the next state, the reward\n",
    "            # and if the games end\n",
    "            prev_state = state\n",
    "            state, reward, game_over = env.act(action , train = True)\n",
    "\n",
    "            # Update the counters\n",
    "            if reward > 0:\n",
    "                win = win + reward\n",
    "            if reward < 0:\n",
    "                lose = lose -reward\n",
    "\n",
    "            # Apply the reinforcement strategy\n",
    "            loss = agent1.reinforce(prev_state, state,  action, reward, game_over)\n",
    "\n",
    "        # Save as a mp4\n",
    "        if e % 10 == 0:\n",
    "            env.draw(prefix+str(e))\n",
    "\n",
    "        # Update stats\n",
    "        score += win-lose\n",
    "\n",
    "        print(\"Epoch {:03d}/{:03d} | Loss {:.4f} | Win/lose count {}/{} ({})\"\n",
    "              .format(e, epoch, loss, win, lose, win-lose))\n",
    "        agent1.save(name_weights=prefix+'model.h5',name_model=prefix+'model.json')"
   ]
  },
  {
   "cell_type": "code",
   "execution_count": 22,
   "metadata": {},
   "outputs": [
    {
     "name": "stdout",
     "output_type": "stream",
     "text": [
      "Epoch 000/051 | Loss 0.0010 | Win/lose count 25.0/14.299999999999965 (10.700000000000035)\n",
      "Epoch 001/051 | Loss 0.0025 | Win/lose count 21.5/12.499999999999972 (9.000000000000028)\n",
      "Epoch 002/051 | Loss 0.0007 | Win/lose count 12.0/15.099999999999962 (-3.0999999999999623)\n",
      "Epoch 003/051 | Loss 0.0003 | Win/lose count 11.5/14.399999999999965 (-2.899999999999965)\n",
      "Epoch 004/051 | Loss 0.0304 | Win/lose count 3.0/19.0 (-16.0)\n",
      "Epoch 005/051 | Loss 0.0288 | Win/lose count 22.5/12.099999999999973 (10.400000000000027)\n",
      "Epoch 006/051 | Loss 0.0288 | Win/lose count 14.0/14.499999999999964 (-0.4999999999999645)\n",
      "Epoch 007/051 | Loss 0.0008 | Win/lose count 21.0/14.599999999999964 (6.400000000000036)\n",
      "Epoch 008/051 | Loss 0.0012 | Win/lose count 8.5/17.59999999999998 (-9.09999999999998)\n",
      "Epoch 009/051 | Loss 0.0280 | Win/lose count 12.5/15.099999999999964 (-2.599999999999964)\n",
      "Epoch 010/051 | Loss 0.0004 | Win/lose count 23.0/13.999999999999966 (9.000000000000034)\n",
      "Epoch 011/051 | Loss 0.0008 | Win/lose count 25.0/13.999999999999968 (11.000000000000032)\n",
      "Epoch 012/051 | Loss 0.0003 | Win/lose count 12.0/16.69999999999996 (-4.69999999999996)\n",
      "Epoch 013/051 | Loss 0.0008 | Win/lose count 24.5/12.79999999999997 (11.70000000000003)\n",
      "Epoch 014/051 | Loss 0.0010 | Win/lose count 5.5/18.799999999999997 (-13.299999999999997)\n",
      "Epoch 015/051 | Loss 0.0008 | Win/lose count 17.0/14.199999999999966 (2.8000000000000345)\n",
      "Epoch 016/051 | Loss 0.0007 | Win/lose count 13.0/16.799999999999976 (-3.799999999999976)\n",
      "Epoch 017/051 | Loss 0.0260 | Win/lose count 14.0/12.399999999999972 (1.600000000000028)\n",
      "Epoch 018/051 | Loss 0.0013 | Win/lose count 14.5/14.399999999999965 (0.10000000000003517)\n",
      "Epoch 019/051 | Loss 0.0007 | Win/lose count 16.5/14.399999999999965 (2.100000000000035)\n",
      "Epoch 020/051 | Loss 0.0016 | Win/lose count 19.0/12.89999999999997 (6.10000000000003)\n",
      "Epoch 021/051 | Loss 0.0007 | Win/lose count 14.0/15.099999999999962 (-1.0999999999999623)\n",
      "Epoch 022/051 | Loss 0.0006 | Win/lose count 9.5/15.99999999999996 (-6.499999999999959)\n",
      "Epoch 023/051 | Loss 0.0005 | Win/lose count 14.5/14.799999999999963 (-0.2999999999999634)\n",
      "Epoch 024/051 | Loss 0.0072 | Win/lose count 22.5/12.599999999999971 (9.900000000000029)\n",
      "Epoch 025/051 | Loss 0.0288 | Win/lose count 1.5/19.60000000000001 (-18.10000000000001)\n",
      "Epoch 026/051 | Loss 0.0007 | Win/lose count 10.5/15.79999999999996 (-5.29999999999996)\n",
      "Epoch 027/051 | Loss 0.0008 | Win/lose count 16.5/14.699999999999967 (1.8000000000000327)\n",
      "Epoch 028/051 | Loss 0.0017 | Win/lose count 15.5/13.699999999999967 (1.8000000000000327)\n",
      "Epoch 029/051 | Loss 0.0007 | Win/lose count 9.0/15.99999999999996 (-6.999999999999959)\n",
      "Epoch 030/051 | Loss 0.0009 | Win/lose count 8.5/16.599999999999966 (-8.099999999999966)\n",
      "Epoch 031/051 | Loss 0.0006 | Win/lose count 21.0/13.999999999999966 (7.000000000000034)\n",
      "Epoch 032/051 | Loss 0.0026 | Win/lose count 19.0/11.499999999999975 (7.500000000000025)\n",
      "Epoch 033/051 | Loss 0.0019 | Win/lose count 19.5/13.599999999999968 (5.900000000000032)\n",
      "Epoch 034/051 | Loss 0.0011 | Win/lose count 13.5/14.399999999999965 (-0.8999999999999648)\n",
      "Epoch 035/051 | Loss 0.0015 | Win/lose count 19.0/13.499999999999968 (5.500000000000032)\n",
      "Epoch 036/051 | Loss 0.0024 | Win/lose count 15.5/13.599999999999968 (1.9000000000000323)\n",
      "Epoch 037/051 | Loss 0.0011 | Win/lose count 18.0/13.299999999999969 (4.700000000000031)\n",
      "Epoch 038/051 | Loss 0.0231 | Win/lose count 13.5/14.999999999999963 (-1.4999999999999627)\n",
      "Epoch 039/051 | Loss 0.0015 | Win/lose count 9.0/17.099999999999973 (-8.099999999999973)\n",
      "Epoch 040/051 | Loss 0.0025 | Win/lose count 18.0/13.299999999999969 (4.700000000000031)\n",
      "Epoch 041/051 | Loss 0.0258 | Win/lose count 15.0/15.299999999999969 (-0.29999999999996874)\n",
      "Epoch 042/051 | Loss 0.0004 | Win/lose count 4.5/19.600000000000012 (-15.100000000000012)\n",
      "Epoch 043/051 | Loss 0.0018 | Win/lose count 20.5/13.299999999999974 (7.200000000000026)\n",
      "Epoch 044/051 | Loss 0.0007 | Win/lose count 2.0/19.200000000000003 (-17.200000000000003)\n",
      "Epoch 045/051 | Loss 0.0211 | Win/lose count 16.5/15.299999999999962 (1.2000000000000384)\n",
      "Epoch 046/051 | Loss 0.0014 | Win/lose count 13.5/17.099999999999977 (-3.5999999999999766)\n",
      "Epoch 047/051 | Loss 0.0003 | Win/lose count 25.0/11.599999999999975 (13.400000000000025)\n",
      "Epoch 048/051 | Loss 0.0005 | Win/lose count 10.5/17.09999999999997 (-6.5999999999999694)\n",
      "Epoch 049/051 | Loss 0.0005 | Win/lose count 19.0/13.79999999999997 (5.2000000000000295)\n",
      "Epoch 050/051 | Loss 0.0003 | Win/lose count 14.5/13.299999999999969 (1.2000000000000313)\n"
     ]
    },
    {
     "data": {
      "text/html": [
       "<video alt=\"test\" controls>\n",
       "                <source src=\"data:video/mp4;base64,AAAAIGZ0eXBpc29tAAACAGlzb21pc28yYXZjMW1wNDEAAAAIZnJlZQAAF4JtZGF0AAACrQYF//+p3EXpvebZSLeWLNgg2SPu73gyNjQgLSBjb3JlIDE1NyByMjkzNSA1NDVkZTJmIC0gSC4yNjQvTVBFRy00IEFWQyBjb2RlYyAtIENvcHlsZWZ0IDIwMDMtMjAxOCAtIGh0dHA6Ly93d3cudmlkZW9sYW4ub3JnL3gyNjQuaHRtbCAtIG9wdGlvbnM6IGNhYmFjPTEgcmVmPTMgZGVibG9jaz0xOjA6MCBhbmFseXNlPTB4MToweDExMSBtZT1oZXggc3VibWU9NyBwc3k9MSBwc3lfcmQ9MS4wMDowLjAwIG1peGVkX3JlZj0xIG1lX3JhbmdlPTE2IGNocm9tYV9tZT0xIHRyZWxsaXM9MSA4eDhkY3Q9MCBjcW09MCBkZWFkem9uZT0yMSwxMSBmYXN0X3Bza2lwPTEgY2hyb21hX3FwX29mZnNldD00IHRocmVhZHM9NiBsb29rYWhlYWRfdGhyZWFkcz0xIHNsaWNlZF90aHJlYWRzPTAgbnI9MCBkZWNpbWF0ZT0xIGludGVybGFjZWQ9MCBibHVyYXlfY29tcGF0PTAgY29uc3RyYWluZWRfaW50cmE9MCBiZnJhbWVzPTMgYl9weXJhbWlkPTIgYl9hZGFwdD0xIGJfYmlhcz0wIGRpcmVjdD0xIHdlaWdodGI9MSBvcGVuX2dvcD0wIHdlaWdodHA9MiBrZXlpbnQ9MjUwIGtleWludF9taW49MjUgc2NlbmVjdXQ9NDAgaW50cmFfcmVmcmVzaD0wIHJjX2xvb2thaGVhZD00MCByYz1jcmYgbWJ0cmVlPTEgY3JmPTIzLjAgcWNvbXA9MC42MCBxcG1pbj0wIHFwbWF4PTY5IHFwc3RlcD00IGlwX3JhdGlvPTEuNDAgYXE9MToxLjAwAIAAAALmZYiEADf//vaH+BTZWBP+Wb/9DX/cj9uPrP1xYyEE31qvIejAGS+1H+b/rFFs6Z6UB/fgCJQAc24ZwpHZJ46i9VkGOD4FNXSdXwKShQPrGQLcTIUiyjvT/HJFDnbo8L6DVYaxR41aMvkIMEUNi6DkZ2rQ2oG/GbVS0IfdDh5+CFqqkQLE1MnVUu+7M/YzYqHWHPFqa+bUr6tygY32JTzgRVY7db78lPgwd9n13dynvewW4p4AIlWvfYRwUEd7U88wAGt7R9BLuA/fUrPzj1HXWN9HIyKoy+k3ALKoB+lLuoqHZdHf4pSx+uHSSQ3aRQ9JBnMQFIYUUdVp3l/O7jtaNe5beK4xhntCcEJi4Kk+4Bd4uUupFotCZZSdj4BoUvlhRcbg+l/H4RW+vERYYSwULm8JWjduZaYXgvRQ61NrdhDXzG4ULe1etpLGut3sNebSuFL19wQJe+QnRqXQgg0YqIfAqhkaW/VBSvMGyQViCeo1gKRIXl5Brn5OBrrQRZAh2eK5ACzHqGTcC3hfa0igrPQpUoayNaE9jT0rTrHfqTGUVlgY2M4+IjIEk+VTu+yfYVhfKyR2UcemOxDfq+F2tADUsBS25phoFg54Y7W2VtLC+W0ihpP7e4nEKMxC+zuTUExvxzizQGcTzxvd6fsA47VmyPcDDrrrkZQrPJeT8W9S2AhOzDXrS0w3oYkNNAFA38o+iFG9MCH5y8nrnKIHyXxB/CqUqmFykpJOoN09BIVupddsACPAXOo5e9jH6LAWumxqvqIlX4hrhVRn4A+62R4XwwO3bhWVBT0zy6A6Q2xsUKPgg17czQaOgk/uRWh70G2kccnNY2LUcBoqolEDhNAcvLzuFj1dAKHTGJBx2jX8K4Qve6d1e70jrjoI5rk2kGUvrii0WxbKg69IQt2CFts02lVJV9hTnd+zw091mAAkjxlxKAw1nz0Vv/v1Wbcn+w+JvxjMeRwA4zKhMQzuYMAdHAwCGwAAABVBmiNsQz/+nhAA0/r79UH1ZN3KArcAAAAPQZ5BeIV/ACxWjvNEEa/nAAAADgGeYmpCvwAsTYxk3JVGAAAAGkGaZEmoQWiZTAhv//6nhAAzvsH+E4LdCW9BAAAAHUGahknhClJlMFESw3/+p4QAIN8dPtV5tURkZAtNAAAAEAGepWpCvwAbAltOvAFALoEAAAAZQZqnSeEOiZTAhv/+p4QADiA8KdZ0+66ZgQAAAB9BmslJ4Q8mUwUVPDf//qeEAA54Pt51nT6l7NdCgVNwAAAAEAGe6GpCvwAL8zc1x4q2xqAAAAAbQZrsSeEPJlMCG//+p4QACaj5jyMT/LZKXLDhAAAAEkGfCkURPCv/AAfFmL2Fgv0gQAAAAA4BnytqQr8AB8Wax5wTggAAABpBmy1JqEFomUwIb//+p4QADtHGf6rgMfi3oQAAACJBm09J4QpSZTBREsN//qeEACPfJS5zLK1k64kCfl67/votAAAAEAGfbmpCvwAdBngXX9uICcEAAAAgQZtzSeEOiZTAhv/+p4QAgqALNnsNzLLEyO5cz+tLJ5cAAAAVQZ+RRRU8L/8AT6fXq4AfMRZFGGqmAAAAEAGfsHRCvwBFfSngdMpvG4EAAAAQAZ+yakK/AGwBY17zSs3LwAAAAB5Bm7VJqEFomUwU8N/+p4QAwrq2Yn+rt7qfhDOcLWwAAAAQAZ/UakK/AJ9ZEJuM+vTaSQAAABtBm9ZJ4QpSZTAhv/6nhADD/AYBNevZnwRXWUAAAAAgQZv6SeEOiZTAhn/+nhAEcEOdNgh/t/+dML7+/wByyLkAAAARQZ4YRRE8L/8AsU+vWokARl8AAAAPAZ43dEK/AJraMXAflp1gAAAAEAGeOWpCvwDs84a95pWbQ8EAAAAbQZo7SahBaJlMCGf//p4QB7BKxwoAPgcP7sPmAAAAF0GaXEnhClJlMCGf/p4QG5wjn330OCYNAAAAGEGafUnhDomUwIZ//p4QG5wjl34u+GrRqQAAABhBmp5J4Q8mUwIb//6nhAcfRzQVrMYnxBwAAAAeQZqgSeEPJlMFETwz//6eEBbOJ3x13fOXdcR9QufcAAAAEAGe32pCvwIeR251njgya0EAAAAZQZrBSeEPJlMCG//+p4QBxuwf35gt0FregAAAAB1BmuNJ4Q8mUwURPDP//p4QA/fr79UHzVOG5QCtIQAAAA8BnwJqQr8A15F8zbMjWZ8AAAAdQZsFSeEPJlMFPDP//p4QA8vv79S86tzuuI+qH6cAAAAQAZ8kakK/AM2R251oYXiWwQAAABhBmyZJ4Q8mUwIZ//6eEAJt8Q863QMkNO0AAAAYQZtHSeEPJlMCGf/+nhACXfEP7ZDH1hFtAAAAGEGbaEnhDyZTAhn//p4QAYn19/IkR9YSLgAAABlBm4lJ4Q8mUwIb//6nhAA/vsH+E4LdCVlAAAAAIUGbq0nhDyZTBRE8N//+p4QAKj7qfutLM1Nufg9FvOIKgQAAABABn8pqQr8AIbLIYfQEg5aYAAAAGEGbzEnhDyZTAhv//qeEABxAeFF8ENBsgQAAAB9Bm+5J4Q8mUwURPDf//qeEABzwfbzrOn1L2a6FAo9xAAAAEAGeDWpCvwAX5m5rjxVtUqEAAAAdQZoQSeEPJlMFPDf//qeEABNvo58dt4iZmpt0h0kAAAAQAZ4vakK/AA+KuDXHira44AAAABtBmjNJ4Q8mUwIZ//6eEAAyfr79Nr3NER9Ux4AAAAARQZ5RRRE8K/8ACoUo3mm961cAAAAOAZ5yakK/AAqDYx6IsVIAAAAaQZp0SahBaJlMCG///qeEAAf32D/CcFuheEAAAAAfQZqWSeEKUmUwURLDf/6nhAAFR91PvhnoXa2YoSBNgQAAABABnrVqQr8ABDZPnOtDDEFAAAAAGEGat0nhDomUwIb//qeEAANP7B69mfBGuQAAAClBmttJ4Q8mUwIb//6nhAAHR9l9XwKa+oV+BSpbPwKZ2BiivX/vc+/KwQAAABZBnvlFETwv/wAEVz9ymY+YiL3mQzgsAAAAEAGfGHRCvwAD4xmRHYsxU2kAAAAQAZ8aakK/AAX524TcZ9eu+AAAADBBmx1JqEFomUwU8M/+nhAAQ7a7t+IR3i//4hEiaWf/8QX5Os//5f/BdICp/jZO1kMAAAAQAZ88akK/AA4rPAuv7cQnwQAAABhBmz5J4QpSZTAhv/6nhAAa+kT/UpAK2cAAAAAbQZtBSeEOiZTAhn/+nhAAo3Bjn8Oc3m13i/DAAAAAEUGff0URPCv/ACG7O/6OSKuLAAAADgGfgGpCvwAhuz1zXq4sAAAAGUGbgkmoQWiZTAhn//6eEACn17jQum+6300AAAAZQZujSeEKUmUwIb/+p4QALDitHR9xswWIsAAAAChBm8ZJ4Q6JlMCGf/6eEACx+6b3ADr9gTDcCmyfZrgUzXD9wKJPmUQFAAAAEkGf5EURPCv/ACS5o3mncpe08wAAABABngVqQr8AJbmjeaYq2nrBAAAAGUGaB0moQWiZTAhn//6eEAB0fX38iRH1hdMAAAAYQZooSeEKUmUwIZ/+nhAAS74h/bIY+sNtAAAAGEGaSUnhDomUwIZ//p4QADE+vu7Tm7i6/AAAABlBmmpJ4Q8mUwIb//6nhAAS1AFm22fZ84vBAAAAGEGai0nhDyZTAhv//qeEABLvjpj/D6tuzQAAABtBmq9J4Q8mUwIb//6nhAAbl1bMT/V291P2tVgAAAAQQZ7NRRE8L/8AEFoDl5FmYQAAABABnux0Qr8AF06Ac7Y402DhAAAADwGe7mpCvwAXRRompKdygQAAABxBmvFJqEFomUwU8M/+nhAAo1e64jn9I6+/ph2gAAAAEAGfEGpCvwAirzRMiaVnNMAAAAAYQZsSSeEKUmUwIZ/+nhAA+BTjn8Oc31o3AAAAGEGbM0nhDomUwIb//qeEAD++wevZnwRYBwAAABlBm1RJ4Q8mUwIb//6nhABh6RP9VvmPxEPAAAAAH0GbdknhDyZTBRE8N//+p4QAmo+ZqbMKvfk1a4n8L48AAAAQAZ+VakK/AHxZg8mB69ukgAAAABlBm5dJ4Q8mUwId//6plgB3UyEm4cFHzRgRAAAAG0Gbu0nhDyZTAh3//qmWALv6oWQk3HvRj9JzUwAAABBBn9lFETwv/wDXiOM7k/PgAAAAEAGf+HRCvwEvEAc7Y40z7aEAAAAPAZ/6akK/AS55ompKbNmAAAAAE0Gb/0moQWiZTAh3//6plgAAlYEAAAAMQZ4dRREsL/8AALKBAAAADwGePHRCvwEu3HdHbfCpNwAAAA8Bnj5qQr8BLnmiC1Hl0g4AAAATQZojSahBbJlMCHf//qmWAACVgQAAAAxBnkFFFSwv/wAAsoAAAAAPAZ5gdEK/AS7cd0dt8Kk3AAAADwGeYmpCvwEueaILUeXSDgAAABNBmmdJqEFsmUwId//+qZYAAJWBAAAADEGehUUVLC//AACygQAAAA8BnqR0Qr8BLtx3R23wqTcAAAAPAZ6makK/AS55ogtR5dIPAAAAE0Gaq0moQWyZTAh3//6plgAAlYAAAAAMQZ7JRRUsL/8AALKAAAAADwGe6HRCvwEu3HdHbfCpNwAAAA8BnupqQr8BLnmiC1Hl0g4AAAATQZrvSahBbJlMCHf//qmWAACVgAAAAAxBnw1FFSwv/wAAsoEAAAAPAZ8sdEK/AS7cd0dt8Kk3AAAADwGfLmpCvwEueaILUeXSDwAAABNBmzNJqEFsmUwId//+qZYAAJWAAAAADEGfUUUVLC//AACygAAAAA8Bn3B0Qr8BLtx3R23wqTcAAAAPAZ9yakK/AS55ogtR5dIOAAAAE0Gbd0moQWyZTAh3//6plgAAlYAAAAAMQZ+VRRUsL/8AALKBAAAADwGftHRCvwEu3HdHbfCpNwAAAA8Bn7ZqQr8BLnmiC1Hl0g8AAAATQZu7SahBbJlMCHf//qmWAACVgQAAAAxBn9lFFSwv/wAAsoAAAAAPAZ/4dEK/AS7cd0dt8Kk3AAAADwGf+mpCvwEueaILUeXSDgAAABNBm/9JqEFsmUwId//+qZYAAJWBAAAADEGeHUUVLC//AACygQAAAA8Bnjx0Qr8BLtx3R23wqTcAAAAPAZ4+akK/AS55ogtR5dIOAAAAE0GaI0moQWyZTAh3//6plgAAlYEAAAAMQZ5BRRUsL/8AALKAAAAADwGeYHRCvwEu3HdHbfCpNwAAAA8BnmJqQr8BLnmiC1Hl0g4AAAATQZpnSahBbJlMCHf//qmWAACVgQAAAAxBnoVFFSwv/wAAsoEAAAAPAZ6kdEK/AS7cd0dt8Kk3AAAADwGepmpCvwEueaILUeXSDwAAABNBmqtJqEFsmUwId//+qZYAAJWAAAAADEGeyUUVLC//AACygAAAAA8Bnuh0Qr8BLtx3R23wqTcAAAAPAZ7qakK/AS55ogtR5dIOAAAAE0Ga70moQWyZTAh3//6plgAAlYAAAAAMQZ8NRRUsL/8AALKBAAAADwGfLHRCvwEu3HdHbfCpNwAAAA8Bny5qQr8BLnmiC1Hl0g8AAAATQZszSahBbJlMCHf//qmWAACVgAAAAAxBn1FFFSwv/wAAsoAAAAAPAZ9wdEK/AS7cd0dt8Kk3AAAADwGfcmpCvwEueaILUeXSDgAAABNBm3dJqEFsmUwId//+qZYAAJWAAAAADEGflUUVLC//AACygQAAAA8Bn7R0Qr8BLtx3R23wqTcAAAAPAZ+2akK/AS55ogtR5dIPAAAAE0Gbu0moQWyZTAh3//6plgAAlYEAAAAMQZ/ZRRUsL/8AALKAAAAADwGf+HRCvwEu3HdHbfCpNwAAAA8Bn/pqQr8BLnmiC1Hl0g4AAAATQZv/SahBbJlMCHf//qmWAACVgQAAAAxBnh1FFSwv/wAAsoEAAAAPAZ48dEK/AS7cd0dt8Kk3AAAADwGePmpCvwEueaILUeXSDgAAABNBmiNJqEFsmUwId//+qZYAAJWBAAAADEGeQUUVLC//AACygAAAAA8BnmB0Qr8BLtx3R23wqTcAAAAPAZ5iakK/AS55ogtR5dIOAAAAE0GaZ0moQWyZTAh3//6plgAAlYEAAAAMQZ6FRRUsL/8AALKBAAAADwGepHRCvwEu3HdHbfCpNwAAAA8BnqZqQr8BLnmiC1Hl0g8AAAATQZqrSahBbJlMCHf//qmWAACVgAAAAAxBnslFFSwv/wAAsoAAAAAPAZ7odEK/AS7cd0dt8Kk3AAAADwGe6mpCvwEueaILUeXSDgAAABNBmu9JqEFsmUwId//+qZYAAJWAAAAADEGfDUUVLC//AACygQAAAA8Bnyx0Qr8BLtx3R23wqTcAAAAPAZ8uakK/AS55ogtR5dIPAAAAE0GbM0moQWyZTAh3//6plgAAlYAAAAAMQZ9RRRUsL/8AALKAAAAADwGfcHRCvwEu3HdHbfCpNwAAAA8Bn3JqQr8BLnmiC1Hl0g4AAAATQZt3SahBbJlMCHf//qmWAACVgAAAAAxBn5VFFSwv/wAAsoEAAAAPAZ+0dEK/AS7cd0dt8Kk3AAAADwGftmpCvwEueaILUeXSDwAAABNBm7tJqEFsmUwId//+qZYAAJWBAAAADEGf2UUVLC//AACygAAAAA8Bn/h0Qr8BLtx3R23wqTcAAAAPAZ/6akK/AS55ogtR5dIOAAAAEkGb/0moQWyZTAhv//6nhAABJwAAAAxBnh1FFSwv/wAAsoEAAAAPAZ48dEK/AS7cd0dt8Kk3AAAADwGePmpCvwEueaILUeXSDgAAABJBmiNJqEFsmUwIb//+p4QAAScAAAAMQZ5BRRUsL/8AALKAAAAADwGeYHRCvwEu3HdHbfCpNwAAAA8BnmJqQr8BLnmiC1Hl0g4AAAASQZpnSahBbJlMCGf//p4QAAR9AAAADEGehUUVLC//AACygQAAAA8BnqR0Qr8BLtx3R23wqTcAAAAPAZ6makK/AS55ogtR5dIPAAAAG0GaqUuoQhBbJEYIKAfyAf2HgFEwr/44QAARcAAAACMBnshqQr8Cr2PtQcTdqsNJJuWqY1D5E3yaUxg1iYmNho9WmAAAC/htb292AAAAbG12aGQAAAAAAAAAAAAAAAAAAAPoAAAfkAABAAABAAAAAAAAAAAAAAAAAQAAAAAAAAAAAAAAAAAAAAEAAAAAAAAAAAAAAAAAAEAAAAAAAAAAAAAAAAAAAAAAAAAAAAAAAAAAAAAAAAACAAALInRyYWsAAABcdGtoZAAAAAMAAAAAAAAAAAAAAAEAAAAAAAAfkAAAAAAAAAAAAAAAAAAAAAAAAQAAAAAAAAAAAAAAAAAAAAEAAAAAAAAAAAAAAAAAAEAAAAABEAAAARAAAAAAACRlZHRzAAAAHGVsc3QAAAAAAAAAAQAAH5AAAAQAAAEAAAAACpptZGlhAAAAIG1kaGQAAAAAAAAAAAAAAAAAADIAAAGUAFXEAAAAAAAtaGRscgAAAAAAAAAAdmlkZQAAAAAAAAAAAAAAAFZpZGVvSGFuZGxlcgAAAApFbWluZgAAABR2bWhkAAAAAQAAAAAAAAAAAAAAJGRpbmYAAAAcZHJlZgAAAAAAAAABAAAADHVybCAAAAABAAAKBXN0YmwAAACVc3RzZAAAAAAAAAABAAAAhWF2YzEAAAAAAAAAAQAAAAAAAAAAAAAAAAAAAAABEAEQAEgAAABIAAAAAAAAAAEAAAAAAAAAAAAAAAAAAAAAAAAAAAAAAAAAAAAAAAAAAAAY//8AAAAvYXZjQwH0AA3/4QAXZ/QADZGbKCIR0IAAAAMAgAAAGQeKFMsBAAVo6+PESAAAABhzdHRzAAAAAAAAAAEAAADKAAACAAAAABRzdHNzAAAAAAAAAAEAAAABAAAF0GN0dHMAAAAAAAAAuAAAAAEAAAQAAAAAAQAACAAAAAACAAACAAAAAAEAAAQAAAAAAQAABgAAAAABAAACAAAAAAEAAAQAAAAAAQAABgAAAAABAAACAAAAAAEAAAgAAAAAAgAAAgAAAAABAAAEAAAAAAEAAAYAAAAAAQAAAgAAAAABAAAKAAAAAAEAAAQAAAAAAQAAAAAAAAABAAACAAAAAAEAAAYAAAAAAQAAAgAAAAABAAAEAAAAAAEAAAoAAAAAAQAABAAAAAABAAAAAAAAAAEAAAIAAAAABAAABAAAAAABAAAGAAAAAAEAAAIAAAAAAQAABAAAAAABAAAGAAAAAAEAAAIAAAAAAQAABgAAAAABAAACAAAAAAQAAAQAAAAAAQAABgAAAAABAAACAAAAAAEAAAQAAAAAAQAABgAAAAABAAACAAAAAAEAAAYAAAAAAQAAAgAAAAABAAAIAAAAAAIAAAIAAAAAAQAABAAAAAABAAAGAAAAAAEAAAIAAAAAAQAABAAAAAABAAAKAAAAAAEAAAQAAAAAAQAAAAAAAAABAAACAAAAAAEAAAYAAAAAAQAAAgAAAAABAAAEAAAAAAEAAAgAAAAAAgAAAgAAAAACAAAEAAAAAAEAAAgAAAAAAgAAAgAAAAAFAAAEAAAAAAEAAAoAAAAAAQAABAAAAAABAAAAAAAAAAEAAAIAAAAAAQAABgAAAAABAAACAAAAAAMAAAQAAAAAAQAABgAAAAABAAACAAAAAAEAAAQAAAAAAQAACgAAAAABAAAEAAAAAAEAAAAAAAAAAQAAAgAAAAABAAAKAAAAAAEAAAQAAAAAAQAAAAAAAAABAAACAAAAAAEAAAoAAAAAAQAABAAAAAABAAAAAAAAAAEAAAIAAAAAAQAACgAAAAABAAAEAAAAAAEAAAAAAAAAAQAAAgAAAAABAAAKAAAAAAEAAAQAAAAAAQAAAAAAAAABAAACAAAAAAEAAAoAAAAAAQAABAAAAAABAAAAAAAAAAEAAAIAAAAAAQAACgAAAAABAAAEAAAAAAEAAAAAAAAAAQAAAgAAAAABAAAKAAAAAAEAAAQAAAAAAQAAAAAAAAABAAACAAAAAAEAAAoAAAAAAQAABAAAAAABAAAAAAAAAAEAAAIAAAAAAQAACgAAAAABAAAEAAAAAAEAAAAAAAAAAQAAAgAAAAABAAAKAAAAAAEAAAQAAAAAAQAAAAAAAAABAAACAAAAAAEAAAoAAAAAAQAABAAAAAABAAAAAAAAAAEAAAIAAAAAAQAACgAAAAABAAAEAAAAAAEAAAAAAAAAAQAAAgAAAAABAAAKAAAAAAEAAAQAAAAAAQAAAAAAAAABAAACAAAAAAEAAAoAAAAAAQAABAAAAAABAAAAAAAAAAEAAAIAAAAAAQAACgAAAAABAAAEAAAAAAEAAAAAAAAAAQAAAgAAAAABAAAKAAAAAAEAAAQAAAAAAQAAAAAAAAABAAACAAAAAAEAAAoAAAAAAQAABAAAAAABAAAAAAAAAAEAAAIAAAAAAQAACgAAAAABAAAEAAAAAAEAAAAAAAAAAQAAAgAAAAABAAAKAAAAAAEAAAQAAAAAAQAAAAAAAAABAAACAAAAAAEAAAoAAAAAAQAABAAAAAABAAAAAAAAAAEAAAIAAAAAAQAACgAAAAABAAAEAAAAAAEAAAAAAAAAAQAAAgAAAAABAAAKAAAAAAEAAAQAAAAAAQAAAAAAAAABAAACAAAAAAEAAAoAAAAAAQAABAAAAAABAAAAAAAAAAEAAAIAAAAAAQAACgAAAAABAAAEAAAAAAEAAAAAAAAAAQAAAgAAAAABAAAKAAAAAAEAAAQAAAAAAQAAAAAAAAABAAACAAAAAAEAAAoAAAAAAQAABAAAAAABAAAAAAAAAAEAAAIAAAAAAQAACgAAAAABAAAEAAAAAAEAAAAAAAAAAQAAAgAAAAABAAAGAAAAAAEAAAIAAAAAHHN0c2MAAAAAAAAAAQAAAAEAAADKAAAAAQAAAzxzdHN6AAAAAAAAAAAAAADKAAAFmwAAABkAAAATAAAAEgAAAB4AAAAhAAAAFAAAAB0AAAAjAAAAFAAAAB8AAAAWAAAAEgAAAB4AAAAmAAAAFAAAACQAAAAZAAAAFAAAABQAAAAiAAAAFAAAAB8AAAAkAAAAFQAAABMAAAAUAAAAHwAAABsAAAAcAAAAHAAAACIAAAAUAAAAHQAAACEAAAATAAAAIQAAABQAAAAcAAAAHAAAABwAAAAdAAAAJQAAABQAAAAcAAAAIwAAABQAAAAhAAAAFAAAAB8AAAAVAAAAEgAAAB4AAAAjAAAAFAAAABwAAAAtAAAAGgAAABQAAAAUAAAANAAAABQAAAAcAAAAHwAAABUAAAASAAAAHQAAAB0AAAAsAAAAFgAAABQAAAAdAAAAHAAAABwAAAAdAAAAHAAAAB8AAAAUAAAAFAAAABMAAAAgAAAAFAAAABwAAAAcAAAAHQAAACMAAAAUAAAAHQAAAB8AAAAUAAAAFAAAABMAAAAXAAAAEAAAABMAAAATAAAAFwAAABAAAAATAAAAEwAAABcAAAAQAAAAEwAAABMAAAAXAAAAEAAAABMAAAATAAAAFwAAABAAAAATAAAAEwAAABcAAAAQAAAAEwAAABMAAAAXAAAAEAAAABMAAAATAAAAFwAAABAAAAATAAAAEwAAABcAAAAQAAAAEwAAABMAAAAXAAAAEAAAABMAAAATAAAAFwAAABAAAAATAAAAEwAAABcAAAAQAAAAEwAAABMAAAAXAAAAEAAAABMAAAATAAAAFwAAABAAAAATAAAAEwAAABcAAAAQAAAAEwAAABMAAAAXAAAAEAAAABMAAAATAAAAFwAAABAAAAATAAAAEwAAABcAAAAQAAAAEwAAABMAAAAXAAAAEAAAABMAAAATAAAAFwAAABAAAAATAAAAEwAAABcAAAAQAAAAEwAAABMAAAAXAAAAEAAAABMAAAATAAAAFwAAABAAAAATAAAAEwAAABcAAAAQAAAAEwAAABMAAAAWAAAAEAAAABMAAAATAAAAFgAAABAAAAATAAAAEwAAABYAAAAQAAAAEwAAABMAAAAfAAAAJwAAABRzdGNvAAAAAAAAAAEAAAAwAAAAYnVkdGEAAABabWV0YQAAAAAAAAAhaGRscgAAAAAAAAAAbWRpcmFwcGwAAAAAAAAAAAAAAAAtaWxzdAAAACWpdG9vAAAAHWRhdGEAAAABAAAAAExhdmY1OC4yNi4xMDA=\" type=\"video/mp4\" />\n",
       "             </video>"
      ],
      "text/plain": [
       "<IPython.core.display.HTML object>"
      ]
     },
     "execution_count": 22,
     "metadata": {},
     "output_type": "execute_result"
    }
   ],
   "source": [
    "# Training\n",
    "env = EnvironmentExploring(grid_size=size, max_time=T, temperature=0.3)\n",
    "agent_m = DQN_CNN(size, lr=.1, epsilon = 0.1, memory_size=2000, batch_size = 32,n_state=3)\n",
    "train_other(agent_m , agent, env, epochs_train, prefix='cnn_train_other')\n",
    "HTML(display_videos('cnn_train_other10.mp4'))"
   ]
  },
  {
   "cell_type": "code",
   "execution_count": 23,
   "metadata": {},
   "outputs": [
    {
     "name": "stdout",
     "output_type": "stream",
     "text": [
      "Win/lose count 6.0/18.19999999999999. Average score (-12.199999999999989)\n",
      "Win/lose count 8.5/16.79999999999997. Average score (-10.249999999999979)\n",
      "Win/lose count 8.0/18.39999999999999. Average score (-10.299999999999983)\n",
      "Win/lose count 5.5/18.19999999999999. Average score (-10.899999999999984)\n",
      "Win/lose count 8.5/17.399999999999977. Average score (-10.499999999999982)\n",
      "Win/lose count 7.0/17.899999999999984. Average score (-10.56666666666665)\n",
      "Win/lose count 8.5/17.599999999999984. Average score (-10.357142857142842)\n",
      "Win/lose count 1.0/20.600000000000026. Average score (-11.512499999999989)\n",
      "Win/lose count 4.5/18.699999999999996. Average score (-11.8111111111111)\n",
      "Win/lose count 8.0/18.799999999999997. Average score (-11.70999999999999)\n",
      "Win/lose count 7.5/18.099999999999987. Average score (-11.609090909090897)\n",
      "Final score: -11.609090909090897\n"
     ]
    },
    {
     "data": {
      "text/html": [
       "<video alt=\"test\" controls>\n",
       "                <source src=\"data:video/mp4;base64,AAAAIGZ0eXBpc29tAAACAGlzb21pc28yYXZjMW1wNDEAAAAIZnJlZQAAFgttZGF0AAACrQYF//+p3EXpvebZSLeWLNgg2SPu73gyNjQgLSBjb3JlIDE1NyByMjkzNSA1NDVkZTJmIC0gSC4yNjQvTVBFRy00IEFWQyBjb2RlYyAtIENvcHlsZWZ0IDIwMDMtMjAxOCAtIGh0dHA6Ly93d3cudmlkZW9sYW4ub3JnL3gyNjQuaHRtbCAtIG9wdGlvbnM6IGNhYmFjPTEgcmVmPTMgZGVibG9jaz0xOjA6MCBhbmFseXNlPTB4MToweDExMSBtZT1oZXggc3VibWU9NyBwc3k9MSBwc3lfcmQ9MS4wMDowLjAwIG1peGVkX3JlZj0xIG1lX3JhbmdlPTE2IGNocm9tYV9tZT0xIHRyZWxsaXM9MSA4eDhkY3Q9MCBjcW09MCBkZWFkem9uZT0yMSwxMSBmYXN0X3Bza2lwPTEgY2hyb21hX3FwX29mZnNldD00IHRocmVhZHM9NiBsb29rYWhlYWRfdGhyZWFkcz0xIHNsaWNlZF90aHJlYWRzPTAgbnI9MCBkZWNpbWF0ZT0xIGludGVybGFjZWQ9MCBibHVyYXlfY29tcGF0PTAgY29uc3RyYWluZWRfaW50cmE9MCBiZnJhbWVzPTMgYl9weXJhbWlkPTIgYl9hZGFwdD0xIGJfYmlhcz0wIGRpcmVjdD0xIHdlaWdodGI9MSBvcGVuX2dvcD0wIHdlaWdodHA9MiBrZXlpbnQ9MjUwIGtleWludF9taW49MjUgc2NlbmVjdXQ9NDAgaW50cmFfcmVmcmVzaD0wIHJjX2xvb2thaGVhZD00MCByYz1jcmYgbWJ0cmVlPTEgY3JmPTIzLjAgcWNvbXA9MC42MCBxcG1pbj0wIHFwbWF4PTY5IHFwc3RlcD00IGlwX3JhdGlvPTEuNDAgYXE9MToxLjAwAIAAAAMTZYiEADf//vaH+BTZWBP+Wb/9DX/cj9uPrP1xYyEE31qvIejAGS+1H+b/rFFs6Z6UB/fgCJQAc24ZwpHZJ46w5MIvVHwKXAT74FNJkUf2kz8kZ79iJJSawDtpALgjwtGVac+VVeg0N7VscqBtZhfdaEOfJku862OJ4Wm1u3itieizq2we4Z0aZRLM48H3YQhHVEJjv8YBFP796fLO2YSn7TfePsNh3nEmN+h0KErnqOPE+rsvTgkm7LHV/H7xQU3Wh4Fa05k2U+NLaU0zal2S6Mu/nK8Vc+cY0kotmXnZDuiGpAdf5j6DQIGwYgEOl0oX9n8p2ireMLW9gEhb2SZTg/Rj5sLtiaMzRwNhB47GAvOxmGtSBx2Odsd0ierhQ9egj/qvvjRDrEHuYqx8MQ+oVeS75ICFTL5QNtfVC8nQMIyM1QhJLBpfyFn+jtiX8FWJiSi3tt85xZCQhzVMssXtnvozvjNt1hb86aRpwUdJe6GzRqxceXhJjYIsCc7pVAq8yNr1qMPHC4EbNiDKBt6ENxDG6aZbFYDvkHQEVWOcuiz3MNYbdPrZD46dyIeIVloBZsf4awH1S2o3LYzHXSyhqpaf05U3mK31z6hEfB8Z9O/z0HFAGiQrBrz7PLEXtFb2oB5a7mHxn/ydeViIW98yQFtTKzw8DwmAFfyAworlM4ghDOIPvC1GGqwAH3XkkjesGjbappoEyKcHwPNaZCa8PS4kPyz/wvB1EGgvX62kCjl5eWGaeXisTFObNjKABVSq/7V75CTvWuc50ea0cnepttlpsyFniXEFzHb8StzXO9DwCGoBMYvfpsyEZpDwTW2RLfv5DZXxvRpweN0Zo8hfIscZWsXsc6erv6LAOiL+blwpHpV6BFICQDhTGZzZGQrcu5ufPbw3O6Ml+cFgcD4gCtsIUIN+nnBOQN91sLoIDWt8FlLhuFpluFIaRTCMOmWqDn1jwlAXsVovoK8GLlP0cxEZr4aSjsRbmPoFi6v/7fP72Jp/L4F0IAd4L4kIvlzx7c/UnpVIMCrAMmceHsRZzgAD1wAAACRBmiNsQ3/+p4QAVr3jLnMsrnvH4FKls/ApnYGKBdYu+Gb44UAAAAAQQZ5BeIV/AEV9OqOQbGvoVQAAABABnmJqQr8ARXZ45X9uH49AAAAAHUGaZkmoQWiZTAhn//6eEAH99ffqhHT7/s7oF4qDAAAAE0GehEURLCv/AGwhpdw+2YMxpUEAAAAQAZ6lakK/AGwI7c60MLxyQQAAABlBmqdJqEFsmUwIZ//+nhABSPdNjLk2VbltAAAAGEGayEnhClJlMCGf/p4QAT/3TfRUrNfAtgAAAB5BmupJ4Q6JlMFNEwz//p4QAM76+/Ta9zHOdNiptrgAAAAQAZ8JakK/ACstfOdaGF53wQAAABhBmwtJ4Q8mUwIZ//6eEAB/fX3dpzdxcGYAAAAYQZssSeEPJlMCGf/+nhAAw8hjn8Oc31qVAAAAGUGbTUnhDyZTAhv//qeEADJ++zH+H1bb9YEAAAAZQZtuSeEPJlMCG//+p4QAS1AFm22fZ81LwQAAABlBm5FJ4Q8mUwIb//6nhABLvjp7vNzvWpfHAAAAEkGfr0URPCv/ADzAvOdZPk4DgAAAABABn9BqQr8AO2ETNN9JByBwAAAAHEGb00moQWiZTBTwz/6eEAC/+vv6bKFy62atpeEAAAAQAZ/yakK/ACfNuiqzj8B+sAAAABhBm/RJ4QpSZTAhn/6eEAB3PX38iRH1hccAAAAZQZoVSeEOiZTAhv/+p4QAE/91P1HGhIdUwQAAAB5BmjdJ4Q8mUwURPDP//p4QADJ+vv6FdAHuuI+s4GwAAAAPAZ5WakK/AAqDbdKNIeQVAAAAGUGaWEnhDyZTAhv//qeEAAf32D/CcFuheEEAAAAeQZp6SeEPJlMFETw3//6nhAAHwR5nwNvdT8IZzlZAAAAAEAGemWpCvwAGcduE3GfXrk0AAAAdQZqcSeEPJlMFPDP//p4QAB5/X36oR1bndcR9VIYAAAAQAZ67akK/AAZwjtzrQwwYwQAAABhBmr1J4Q8mUwIb//6nhAAE/91OP8Pq3JsAAAAZQZreSeEPJlMCG//+p4QABNvjp9RxoSIWwAAAABlBmv9J4Q8mUwId//6plgABlvaXhagn9kTAAAAAGUGbA0nhDyZTAh3//qmWAAJj9HPy7u3/kW0AAAAVQZ8hRRE8L/8AAtbGin642G+LyXbMAAAAEAGfQHRCvwADzWKxbGypY1EAAAAQAZ9CakK/AAO2ETNN9JCBcAAAABNBm0dJqEFomUwId//+qZYAAJWBAAAADEGfZUURLC//AACygQAAAA8Bn4R0Qr8AAnVlHEdl2ncAAAAPAZ+GakK/AAJ1ZRus9WmRAAAAE0Gbi0moQWyZTAh3//6plgAAlYAAAAAMQZ+pRRUsL/8AALKAAAAADwGfyHRCvwACdWUcR2XadwAAAA8Bn8pqQr8AAnVlG6z1aZEAAAATQZvPSahBbJlMCHf//qmWAACVgAAAAAxBn+1FFSwv/wAAsoEAAAAPAZ4MdEK/AAJ1ZRxHZdp3AAAADwGeDmpCvwACdWUbrPVpkQAAABNBmhNJqEFsmUwId//+qZYAAJWAAAAADEGeMUUVLC//AACygAAAAA8BnlB0Qr8AAnVlHEdl2ncAAAAPAZ5SakK/AAJ1ZRus9WmRAAAAE0GaV0moQWyZTAh3//6plgAAlYAAAAAMQZ51RRUsL/8AALKBAAAADwGelHRCvwACdWUcR2XadwAAAA8BnpZqQr8AAnVlG6z1aZEAAAATQZqbSahBbJlMCHf//qmWAACVgQAAAAxBnrlFFSwv/wAAsoAAAAAPAZ7YdEK/AAJ1ZRxHZdp3AAAADwGe2mpCvwACdWUbrPVpkQAAABNBmt9JqEFsmUwId//+qZYAAJWBAAAADEGe/UUVLC//AACygQAAAA8Bnxx0Qr8AAnVlHEdl2ncAAAAPAZ8eakK/AAJ1ZRus9WmRAAAAE0GbA0moQWyZTAh3//6plgAAlYEAAAAMQZ8hRRUsL/8AALKAAAAADwGfQHRCvwACdWUcR2XadwAAAA8Bn0JqQr8AAnVlG6z1aZEAAAATQZtHSahBbJlMCHf//qmWAACVgQAAAAxBn2VFFSwv/wAAsoEAAAAPAZ+EdEK/AAJ1ZRxHZdp3AAAADwGfhmpCvwACdWUbrPVpkQAAABNBm4tJqEFsmUwId//+qZYAAJWAAAAADEGfqUUVLC//AACygAAAAA8Bn8h0Qr8AAnVlHEdl2ncAAAAPAZ/KakK/AAJ1ZRus9WmRAAAAE0Gbz0moQWyZTAh3//6plgAAlYAAAAAMQZ/tRRUsL/8AALKBAAAADwGeDHRCvwACdWUcR2XadwAAAA8Bng5qQr8AAnVlG6z1aZEAAAATQZoTSahBbJlMCHf//qmWAACVgAAAAAxBnjFFFSwv/wAAsoAAAAAPAZ5QdEK/AAJ1ZRxHZdp3AAAADwGeUmpCvwACdWUbrPVpkQAAABNBmldJqEFsmUwId//+qZYAAJWAAAAADEGedUUVLC//AACygQAAAA8BnpR0Qr8AAnVlHEdl2ncAAAAPAZ6WakK/AAJ1ZRus9WmRAAAAE0Gam0moQWyZTAh3//6plgAAlYEAAAAMQZ65RRUsL/8AALKAAAAADwGe2HRCvwACdWUcR2XadwAAAA8BntpqQr8AAnVlG6z1aZEAAAATQZrfSahBbJlMCHf//qmWAACVgQAAAAxBnv1FFSwv/wAAsoEAAAAPAZ8cdEK/AAJ1ZRxHZdp3AAAADwGfHmpCvwACdWUbrPVpkQAAABNBmwNJqEFsmUwId//+qZYAAJWBAAAADEGfIUUVLC//AACygAAAAA8Bn0B0Qr8AAnVlHEdl2ncAAAAPAZ9CakK/AAJ1ZRus9WmRAAAAE0GbR0moQWyZTAh3//6plgAAlYEAAAAMQZ9lRRUsL/8AALKBAAAADwGfhHRCvwACdWUcR2XadwAAAA8Bn4ZqQr8AAnVlG6z1aZEAAAATQZuLSahBbJlMCHf//qmWAACVgAAAAAxBn6lFFSwv/wAAsoAAAAAPAZ/IdEK/AAJ1ZRxHZdp3AAAADwGfympCvwACdWUbrPVpkQAAABNBm89JqEFsmUwId//+qZYAAJWAAAAADEGf7UUVLC//AACygQAAAA8Bngx0Qr8AAnVlHEdl2ncAAAAPAZ4OakK/AAJ1ZRus9WmRAAAAE0GaE0moQWyZTAh3//6plgAAlYAAAAAMQZ4xRRUsL/8AALKAAAAADwGeUHRCvwACdWUcR2XadwAAAA8BnlJqQr8AAnVlG6z1aZEAAAATQZpXSahBbJlMCHf//qmWAACVgAAAAAxBnnVFFSwv/wAAsoEAAAAPAZ6UdEK/AAJ1ZRxHZdp3AAAADwGelmpCvwACdWUbrPVpkQAAABNBmptJqEFsmUwId//+qZYAAJWBAAAADEGeuUUVLC//AACygAAAAA8Bnth0Qr8AAnVlHEdl2ncAAAAPAZ7aakK/AAJ1ZRus9WmRAAAAE0Ga30moQWyZTAh3//6plgAAlYEAAAAMQZ79RRUsL/8AALKBAAAADwGfHHRCvwACdWUcR2XadwAAAA8Bnx5qQr8AAnVlG6z1aZEAAAATQZsDSahBbJlMCHf//qmWAACVgQAAAAxBnyFFFSwv/wAAsoAAAAAPAZ9AdEK/AAJ1ZRxHZdp3AAAADwGfQmpCvwACdWUbrPVpkQAAABNBm0dJqEFsmUwId//+qZYAAJWBAAAADEGfZUUVLC//AACygQAAAA8Bn4R0Qr8AAnVlHEdl2ncAAAAPAZ+GakK/AAJ1ZRus9WmRAAAAE0Gbi0moQWyZTAh3//6plgAAlYAAAAAMQZ+pRRUsL/8AALKAAAAADwGfyHRCvwACdWUcR2XadwAAAA8Bn8pqQr8AAnVlG6z1aZEAAAATQZvPSahBbJlMCHf//qmWAACVgAAAAAxBn+1FFSwv/wAAsoEAAAAPAZ4MdEK/AAJ1ZRxHZdp3AAAADwGeDmpCvwACdWUbrPVpkQAAABNBmhNJqEFsmUwId//+qZYAAJWAAAAADEGeMUUVLC//AACygAAAAA8BnlB0Qr8AAnVlHEdl2ncAAAAPAZ5SakK/AAJ1ZRus9WmRAAAAE0GaV0moQWyZTAh3//6plgAAlYAAAAAMQZ51RRUsL/8AALKBAAAADwGelHRCvwACdWUcR2XadwAAAA8BnpZqQr8AAnVlG6z1aZEAAAATQZqbSahBbJlMCHf//qmWAACVgQAAAAxBnrlFFSwv/wAAsoAAAAAPAZ7YdEK/AAJ1ZRxHZdp3AAAADwGe2mpCvwACdWUbrPVpkQAAABNBmt9JqEFsmUwId//+qZYAAJWBAAAADEGe/UUVLC//AACygQAAAA8Bnxx0Qr8AAnVlHEdl2ncAAAAPAZ8eakK/AAJ1ZRus9WmRAAAAE0GbA0moQWyZTAh3//6plgAAlYEAAAAMQZ8hRRUsL/8AALKAAAAADwGfQHRCvwACdWUcR2XadwAAAA8Bn0JqQr8AAnVlG6z1aZEAAAATQZtHSahBbJlMCHf//qmWAACVgQAAAAxBn2VFFSwv/wAAsoEAAAAPAZ+EdEK/AAJ1ZRxHZdp3AAAADwGfhmpCvwACdWUbrPVpkQAAABNBm4tJqEFsmUwId//+qZYAAJWAAAAADEGfqUUVLC//AACygAAAAA8Bn8h0Qr8AAnVlHEdl2ncAAAAPAZ/KakK/AAJ1ZRus9WmRAAAAE0Gbz0moQWyZTAh3//6plgAAlYAAAAAMQZ/tRRUsL/8AALKBAAAADwGeDHRCvwACdWUcR2XadwAAAA8Bng5qQr8AAnVlG6z1aZEAAAATQZoTSahBbJlMCHf//qmWAACVgAAAAAxBnjFFFSwv/wAAsoAAAAAPAZ5QdEK/AAJ1ZRxHZdp3AAAADwGeUmpCvwACdWUbrPVpkQAAABNBmldJqEFsmUwId//+qZYAAJWAAAAADEGedUUVLC//AACygQAAAA8BnpR0Qr8AAnVlHEdl2ncAAAAPAZ6WakK/AAJ1ZRus9WmRAAAAE0Gam0moQWyZTAh3//6plgAAlYEAAAAMQZ65RRUsL/8AALKAAAAADwGe2HRCvwACdWUcR2XadwAAAA8BntpqQr8AAnVlG6z1aZEAAAASQZrfSahBbJlMCG///qeEAAEnAAAADEGe/UUVLC//AACygQAAAA8Bnxx0Qr8AAnVlHEdl2ncAAAAPAZ8eakK/AAJ1ZRus9WmRAAAAEkGbA0moQWyZTAhv//6nhAABJwAAAAxBnyFFFSwv/wAAsoAAAAAPAZ9AdEK/AAJ1ZRxHZdp3AAAADwGfQmpCvwACdWUbrPVpkQAAABJBm0dJqEFsmUwIZ//+nhAABH0AAAAMQZ9lRRUsL/8AALKBAAAADwGfhHRCvwACdWUcR2XadwAAAA8Bn4ZqQr8AAnVlG6z1aZEAAAAbQZuJS6hCEFskRggoB/IB/YeAUTCv/jhAABFwAAAAJAGfqGpCvwKvY+1BxN2qw0km5aqGByy1u80qIJosYcPysRNu0AAADDhtb292AAAAbG12aGQAAAAAAAAAAAAAAAAAAAPoAAAfkAABAAABAAAAAAAAAAAAAAAAAQAAAAAAAAAAAAAAAAAAAAEAAAAAAAAAAAAAAAAAAEAAAAAAAAAAAAAAAAAAAAAAAAAAAAAAAAAAAAAAAAACAAALYnRyYWsAAABcdGtoZAAAAAMAAAAAAAAAAAAAAAEAAAAAAAAfkAAAAAAAAAAAAAAAAAAAAAAAAQAAAAAAAAAAAAAAAAAAAAEAAAAAAAAAAAAAAAAAAEAAAAABEAAAARAAAAAAACRlZHRzAAAAHGVsc3QAAAAAAAAAAQAAH5AAAAQAAAEAAAAACtptZGlhAAAAIG1kaGQAAAAAAAAAAAAAAAAAADIAAAGUAFXEAAAAAAAtaGRscgAAAAAAAAAAdmlkZQAAAAAAAAAAAAAAAFZpZGVvSGFuZGxlcgAAAAqFbWluZgAAABR2bWhkAAAAAQAAAAAAAAAAAAAAJGRpbmYAAAAcZHJlZgAAAAAAAAABAAAADHVybCAAAAABAAAKRXN0YmwAAACVc3RzZAAAAAAAAAABAAAAhWF2YzEAAAAAAAAAAQAAAAAAAAAAAAAAAAAAAAABEAEQAEgAAABIAAAAAAAAAAEAAAAAAAAAAAAAAAAAAAAAAAAAAAAAAAAAAAAAAAAAAAAY//8AAAAvYXZjQwH0AA3/4QAXZ/QADZGbKCIR0IAAAAMAgAAAGQeKFMsBAAVo6+PESAAAABhzdHRzAAAAAAAAAAEAAADKAAACAAAAABRzdHNzAAAAAAAAAAEAAAABAAAGEGN0dHMAAAAAAAAAwAAAAAEAAAQAAAAAAQAACAAAAAACAAACAAAAAAEAAAgAAAAAAgAAAgAAAAACAAAEAAAAAAEAAAYAAAAAAQAAAgAAAAAEAAAEAAAAAAEAAAgAAAAAAgAAAgAAAAABAAAGAAAAAAEAAAIAAAAAAgAABAAAAAABAAAGAAAAAAEAAAIAAAAAAQAABAAAAAABAAAGAAAAAAEAAAIAAAAAAQAABgAAAAABAAACAAAAAAMAAAQAAAAAAQAACgAAAAABAAAEAAAAAAEAAAAAAAAAAQAAAgAAAAABAAAKAAAAAAEAAAQAAAAAAQAAAAAAAAABAAACAAAAAAEAAAoAAAAAAQAABAAAAAABAAAAAAAAAAEAAAIAAAAAAQAACgAAAAABAAAEAAAAAAEAAAAAAAAAAQAAAgAAAAABAAAKAAAAAAEAAAQAAAAAAQAAAAAAAAABAAACAAAAAAEAAAoAAAAAAQAABAAAAAABAAAAAAAAAAEAAAIAAAAAAQAACgAAAAABAAAEAAAAAAEAAAAAAAAAAQAAAgAAAAABAAAKAAAAAAEAAAQAAAAAAQAAAAAAAAABAAACAAAAAAEAAAoAAAAAAQAABAAAAAABAAAAAAAAAAEAAAIAAAAAAQAACgAAAAABAAAEAAAAAAEAAAAAAAAAAQAAAgAAAAABAAAKAAAAAAEAAAQAAAAAAQAAAAAAAAABAAACAAAAAAEAAAoAAAAAAQAABAAAAAABAAAAAAAAAAEAAAIAAAAAAQAACgAAAAABAAAEAAAAAAEAAAAAAAAAAQAAAgAAAAABAAAKAAAAAAEAAAQAAAAAAQAAAAAAAAABAAACAAAAAAEAAAoAAAAAAQAABAAAAAABAAAAAAAAAAEAAAIAAAAAAQAACgAAAAABAAAEAAAAAAEAAAAAAAAAAQAAAgAAAAABAAAKAAAAAAEAAAQAAAAAAQAAAAAAAAABAAACAAAAAAEAAAoAAAAAAQAABAAAAAABAAAAAAAAAAEAAAIAAAAAAQAACgAAAAABAAAEAAAAAAEAAAAAAAAAAQAAAgAAAAABAAAKAAAAAAEAAAQAAAAAAQAAAAAAAAABAAACAAAAAAEAAAoAAAAAAQAABAAAAAABAAAAAAAAAAEAAAIAAAAAAQAACgAAAAABAAAEAAAAAAEAAAAAAAAAAQAAAgAAAAABAAAKAAAAAAEAAAQAAAAAAQAAAAAAAAABAAACAAAAAAEAAAoAAAAAAQAABAAAAAABAAAAAAAAAAEAAAIAAAAAAQAACgAAAAABAAAEAAAAAAEAAAAAAAAAAQAAAgAAAAABAAAKAAAAAAEAAAQAAAAAAQAAAAAAAAABAAACAAAAAAEAAAoAAAAAAQAABAAAAAABAAAAAAAAAAEAAAIAAAAAAQAACgAAAAABAAAEAAAAAAEAAAAAAAAAAQAAAgAAAAABAAAKAAAAAAEAAAQAAAAAAQAAAAAAAAABAAACAAAAAAEAAAoAAAAAAQAABAAAAAABAAAAAAAAAAEAAAIAAAAAAQAACgAAAAABAAAEAAAAAAEAAAAAAAAAAQAAAgAAAAABAAAKAAAAAAEAAAQAAAAAAQAAAAAAAAABAAACAAAAAAEAAAoAAAAAAQAABAAAAAABAAAAAAAAAAEAAAIAAAAAAQAACgAAAAABAAAEAAAAAAEAAAAAAAAAAQAAAgAAAAABAAAKAAAAAAEAAAQAAAAAAQAAAAAAAAABAAACAAAAAAEAAAoAAAAAAQAABAAAAAABAAAAAAAAAAEAAAIAAAAAAQAACgAAAAABAAAEAAAAAAEAAAAAAAAAAQAAAgAAAAABAAAKAAAAAAEAAAQAAAAAAQAAAAAAAAABAAACAAAAAAEAAAoAAAAAAQAABAAAAAABAAAAAAAAAAEAAAIAAAAAAQAACgAAAAABAAAEAAAAAAEAAAAAAAAAAQAAAgAAAAABAAAKAAAAAAEAAAQAAAAAAQAAAAAAAAABAAACAAAAAAEAAAoAAAAAAQAABAAAAAABAAAAAAAAAAEAAAIAAAAAAQAABgAAAAABAAACAAAAABxzdHNjAAAAAAAAAAEAAAABAAAAygAAAAEAAAM8c3RzegAAAAAAAAAAAAAAygAABcgAAAAoAAAAFAAAABQAAAAhAAAAFwAAABQAAAAdAAAAHAAAACIAAAAUAAAAHAAAABwAAAAdAAAAHQAAAB0AAAAWAAAAFAAAACAAAAAUAAAAHAAAAB0AAAAiAAAAEwAAAB0AAAAiAAAAFAAAACEAAAAUAAAAHAAAAB0AAAAdAAAAHQAAABkAAAAUAAAAFAAAABcAAAAQAAAAEwAAABMAAAAXAAAAEAAAABMAAAATAAAAFwAAABAAAAATAAAAEwAAABcAAAAQAAAAEwAAABMAAAAXAAAAEAAAABMAAAATAAAAFwAAABAAAAATAAAAEwAAABcAAAAQAAAAEwAAABMAAAAXAAAAEAAAABMAAAATAAAAFwAAABAAAAATAAAAEwAAABcAAAAQAAAAEwAAABMAAAAXAAAAEAAAABMAAAATAAAAFwAAABAAAAATAAAAEwAAABcAAAAQAAAAEwAAABMAAAAXAAAAEAAAABMAAAATAAAAFwAAABAAAAATAAAAEwAAABcAAAAQAAAAEwAAABMAAAAXAAAAEAAAABMAAAATAAAAFwAAABAAAAATAAAAEwAAABcAAAAQAAAAEwAAABMAAAAXAAAAEAAAABMAAAATAAAAFwAAABAAAAATAAAAEwAAABcAAAAQAAAAEwAAABMAAAAXAAAAEAAAABMAAAATAAAAFwAAABAAAAATAAAAEwAAABcAAAAQAAAAEwAAABMAAAAXAAAAEAAAABMAAAATAAAAFwAAABAAAAATAAAAEwAAABcAAAAQAAAAEwAAABMAAAAXAAAAEAAAABMAAAATAAAAFwAAABAAAAATAAAAEwAAABcAAAAQAAAAEwAAABMAAAAXAAAAEAAAABMAAAATAAAAFwAAABAAAAATAAAAEwAAABcAAAAQAAAAEwAAABMAAAAXAAAAEAAAABMAAAATAAAAFwAAABAAAAATAAAAEwAAABcAAAAQAAAAEwAAABMAAAAXAAAAEAAAABMAAAATAAAAFgAAABAAAAATAAAAEwAAABYAAAAQAAAAEwAAABMAAAAWAAAAEAAAABMAAAATAAAAHwAAACgAAAAUc3RjbwAAAAAAAAABAAAAMAAAAGJ1ZHRhAAAAWm1ldGEAAAAAAAAAIWhkbHIAAAAAAAAAAG1kaXJhcHBsAAAAAAAAAAAAAAAALWlsc3QAAAAlqXRvbwAAAB1kYXRhAAAAAQAAAABMYXZmNTguMjYuMTAw\" type=\"video/mp4\" />\n",
       "             </video>"
      ],
      "text/plain": [
       "<IPython.core.display.HTML object>"
      ]
     },
     "execution_count": 23,
     "metadata": {},
     "output_type": "execute_result"
    }
   ],
   "source": [
    "test(agent_m,env,epochs_test,prefix='cnn_test_other')\n",
    "HTML(display_videos('cnn_test_other9.mp4'))"
   ]
  },
  {
   "cell_type": "markdown",
   "metadata": {},
   "source": [
    "We can see that the agent can't perform better than the original agent."
   ]
  },
  {
   "cell_type": "markdown",
   "metadata": {},
   "source": [
    "***"
   ]
  }
 ],
 "metadata": {
  "kernelspec": {
   "display_name": "Python 3",
   "language": "python",
   "name": "python3"
  },
  "language_info": {
   "codemirror_mode": {
    "name": "ipython",
    "version": 3
   },
   "file_extension": ".py",
   "mimetype": "text/x-python",
   "name": "python",
   "nbconvert_exporter": "python",
   "pygments_lexer": "ipython3",
   "version": "3.6.5"
  },
  "toc": {
   "base_numbering": 1,
   "nav_menu": {},
   "number_sections": true,
   "sideBar": true,
   "skip_h1_title": false,
   "title_cell": "Table of Contents",
   "title_sidebar": "Contents",
   "toc_cell": false,
   "toc_position": {
    "height": "calc(100% - 180px)",
    "left": "10px",
    "top": "150px",
    "width": "298px"
   },
   "toc_section_display": true,
   "toc_window_display": true
  }
 },
 "nbformat": 4,
 "nbformat_minor": 2
}
